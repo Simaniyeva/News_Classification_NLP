{
  "cells": [
    {
      "cell_type": "markdown",
      "metadata": {
        "id": "view-in-github",
        "colab_type": "text"
      },
      "source": [
        "<a href=\"https://colab.research.google.com/github/Simaniyeva/News_Classification_NLP/blob/main/Azerbaijan_News_Classification_NLP_Competition.ipynb\" target=\"_parent\"><img src=\"https://colab.research.google.com/assets/colab-badge.svg\" alt=\"Open In Colab\"/></a>"
      ]
    },
    {
      "cell_type": "markdown",
      "metadata": {
        "id": "B57dAgyLCt5V"
      },
      "source": [
        "**Azerbaijan News Classification - NLP Competition**\n",
        "\n"
      ]
    },
    {
      "cell_type": "markdown",
      "metadata": {
        "id": "mYgl3UzOC3yE"
      },
      "source": [
        "# **Introduction**\n",
        "\n",
        "The notebook structure consists of the following sections:\n",
        "1. Introduction\n",
        " * 1.1 Structure\n",
        " * 1.2 Introduction\n",
        " * 1.3 Importing Libraries\n",
        "2. Data Analysis and Preparation\n",
        "3. Feature Engineering\n",
        "4. Testing Different Models\n",
        "5. Model Evaluation\n",
        "\n",
        "**Introduction**\n",
        "The main goal of this project is to classify news articles in Azerbaijani using artificial intelligence methods. Within the framework of the project, various **classification models** will be tested and an attempt will be made to achieve the highest **F1-score**.\n",
        "\n",
        "\n",
        "According to the terms of the competition:\n",
        "* **F1-score** is the main evaluation criterion.\n",
        "\n",
        "* The use of external data is prohibited.\n",
        "\n",
        "* Only **pre-existing pre-trained models** can be used.\n",
        "\n",
        "* **The code must be run in a notebook and the result must be submitted in the submission.csv format.**\n",
        "\n",
        "\n",
        "This project will be an important step for the development of **NLP applications in Azerbaijani**.\n",
        "\n"
      ]
    },
    {
      "cell_type": "markdown",
      "source": [
        "# Data Analysis and Preparation"
      ],
      "metadata": {
        "id": "e19uU05l5gG9"
      }
    },
    {
      "cell_type": "code",
      "execution_count": 2,
      "metadata": {
        "colab": {
          "base_uri": "https://localhost:8080/"
        },
        "id": "q6XK7gDlZZ4x",
        "outputId": "5c84efb4-5fc5-44ea-f0f1-530a8a2734c7"
      },
      "outputs": [
        {
          "output_type": "stream",
          "name": "stdout",
          "text": [
            "Drive already mounted at /content/drive; to attempt to forcibly remount, call drive.mount(\"/content/drive\", force_remount=True).\n"
          ]
        }
      ],
      "source": [
        "from google.colab import drive\n",
        "drive.mount('/content/drive')\n"
      ]
    },
    {
      "cell_type": "code",
      "execution_count": 3,
      "metadata": {
        "id": "U2hp6DXqaE3Q"
      },
      "outputs": [],
      "source": [
        "import shutil\n",
        "import os\n",
        "\n",
        "# Create the .kaggle directory if it doesn't exist\n",
        "os.makedirs('/root/.kaggle', exist_ok=True)\n",
        "\n",
        "# Copy kaggle.json from Google Drive\n",
        "shutil.copy('/content/drive/MyDrive/Kaggle/kaggle.json', '/root/.kaggle/kaggle.json')\n",
        "\n",
        "# Set correct permissions\n",
        "os.chmod('/root/.kaggle/kaggle.json', 600)\n"
      ]
    },
    {
      "cell_type": "code",
      "execution_count": 4,
      "metadata": {
        "colab": {
          "base_uri": "https://localhost:8080/"
        },
        "id": "bSNX1IpbaI6K",
        "outputId": "23b33127-b6b9-4d6b-cf29-5a7245678dbc"
      },
      "outputs": [
        {
          "output_type": "stream",
          "name": "stdout",
          "text": [
            "ufaz-news-classifier-challenge.zip: Skipping, found more recently modified local copy (use --force to force download)\n"
          ]
        }
      ],
      "source": [
        "!kaggle competitions download -c ufaz-news-classifier-challenge -p /content/drive/MyDrive/Kaggle\n"
      ]
    },
    {
      "cell_type": "markdown",
      "metadata": {
        "id": "vy0WxbQKIcVt"
      },
      "source": [
        "**Importing Libraries**"
      ]
    },
    {
      "cell_type": "code",
      "execution_count": 80,
      "metadata": {
        "colab": {
          "base_uri": "https://localhost:8080/"
        },
        "id": "Wn6zWMnSIba_",
        "outputId": "73f4ec36-2e24-4ef1-d714-457215fca803"
      },
      "outputs": [
        {
          "output_type": "stream",
          "name": "stderr",
          "text": [
            "[nltk_data] Downloading package stopwords to /root/nltk_data...\n",
            "[nltk_data]   Package stopwords is already up-to-date!\n",
            "[nltk_data] Downloading package wordnet to /root/nltk_data...\n",
            "[nltk_data]   Package wordnet is already up-to-date!\n",
            "[nltk_data] Downloading package punkt_tab to /root/nltk_data...\n",
            "[nltk_data]   Package punkt_tab is already up-to-date!\n"
          ]
        }
      ],
      "source": [
        "# It is used for text processing (re, string) and data visualization (seaborn, matplotlib).\n",
        "import re,string\n",
        "import pandas as pd\n",
        "import seaborn as sns\n",
        "import matplotlib.pyplot as plt\n",
        "from sklearn.metrics import confusion_matrix,f1_score\n",
        "\n",
        "# NLTK used for natural language tokenization, lemmatization, and stopword cleaning.\n",
        "import nltk\n",
        "from nltk import sent_tokenize\n",
        "from nltk.tokenize import word_tokenize\n",
        "from nltk.corpus import wordnet\n",
        "from nltk.stem import WordNetLemmatizer\n",
        "nltk.download('stopwords')\n",
        "nltk.download('wordnet')\n",
        "nltk.download('punkt_tab')\n",
        "\n",
        "# Model Preparation and Transformation\n",
        "from sklearn.model_selection import train_test_split\n",
        "from sklearn.preprocessing import LabelEncoder\n",
        "from sklearn.feature_extraction.text import TfidfVectorizer\n",
        "\n",
        "#  Models\n",
        "from sklearn.neighbors import KNeighborsClassifier\n",
        "from sklearn.multiclass import OneVsRestClassifier\n",
        "from sklearn.linear_model import LogisticRegression\n",
        "from sklearn.naive_bayes import MultinomialNB\n",
        "from sklearn.svm import LinearSVC\n",
        "\n",
        "# Model Building and Evaluation\n",
        "\n",
        "from sklearn.pipeline import Pipeline,make_pipeline\n",
        "from sklearn.metrics import accuracy_score\n",
        "from sklearn.metrics import cohen_kappa_score\n",
        "from tabulate import tabulate\n",
        "\n",
        "# Imbalanced Learn\n",
        "from imblearn.over_sampling import SMOTE"
      ]
    },
    {
      "cell_type": "code",
      "execution_count": 6,
      "metadata": {
        "colab": {
          "base_uri": "https://localhost:8080/",
          "height": 206
        },
        "id": "YhYDt157Ptlg",
        "outputId": "2fb571c9-5c7b-4407-dc55-0345a3470d81"
      },
      "outputs": [
        {
          "output_type": "execute_result",
          "data": {
            "text/plain": [
              "   id                                               text    category\n",
              "0   0  Ukrayna dalanda, Qərblə Rusiya sövdələşmə həvə...     siyaset\n",
              "1   1  Aktyor Nurlan Rüstəmov: “Bizə lal-kar deyilməs...  medeniyyet\n",
              "2   2  Azərbaycana turist axını: Rusiyalı səyyahların...      turizm\n",
              "3   3  Heydər Əliyev Sarayına yeni direktor təyin olu...    cemiyyet\n",
              "4   4  Türkiyəli mütəxəssisdən açıqlama: \"Həddindən a...       dunya"
            ],
            "text/html": [
              "\n",
              "  <div id=\"df-a4f2172a-0a4a-4e1e-b9a2-486afafce0e7\" class=\"colab-df-container\">\n",
              "    <div>\n",
              "<style scoped>\n",
              "    .dataframe tbody tr th:only-of-type {\n",
              "        vertical-align: middle;\n",
              "    }\n",
              "\n",
              "    .dataframe tbody tr th {\n",
              "        vertical-align: top;\n",
              "    }\n",
              "\n",
              "    .dataframe thead th {\n",
              "        text-align: right;\n",
              "    }\n",
              "</style>\n",
              "<table border=\"1\" class=\"dataframe\">\n",
              "  <thead>\n",
              "    <tr style=\"text-align: right;\">\n",
              "      <th></th>\n",
              "      <th>id</th>\n",
              "      <th>text</th>\n",
              "      <th>category</th>\n",
              "    </tr>\n",
              "  </thead>\n",
              "  <tbody>\n",
              "    <tr>\n",
              "      <th>0</th>\n",
              "      <td>0</td>\n",
              "      <td>Ukrayna dalanda, Qərblə Rusiya sövdələşmə həvə...</td>\n",
              "      <td>siyaset</td>\n",
              "    </tr>\n",
              "    <tr>\n",
              "      <th>1</th>\n",
              "      <td>1</td>\n",
              "      <td>Aktyor Nurlan Rüstəmov: “Bizə lal-kar deyilməs...</td>\n",
              "      <td>medeniyyet</td>\n",
              "    </tr>\n",
              "    <tr>\n",
              "      <th>2</th>\n",
              "      <td>2</td>\n",
              "      <td>Azərbaycana turist axını: Rusiyalı səyyahların...</td>\n",
              "      <td>turizm</td>\n",
              "    </tr>\n",
              "    <tr>\n",
              "      <th>3</th>\n",
              "      <td>3</td>\n",
              "      <td>Heydər Əliyev Sarayına yeni direktor təyin olu...</td>\n",
              "      <td>cemiyyet</td>\n",
              "    </tr>\n",
              "    <tr>\n",
              "      <th>4</th>\n",
              "      <td>4</td>\n",
              "      <td>Türkiyəli mütəxəssisdən açıqlama: \"Həddindən a...</td>\n",
              "      <td>dunya</td>\n",
              "    </tr>\n",
              "  </tbody>\n",
              "</table>\n",
              "</div>\n",
              "    <div class=\"colab-df-buttons\">\n",
              "\n",
              "  <div class=\"colab-df-container\">\n",
              "    <button class=\"colab-df-convert\" onclick=\"convertToInteractive('df-a4f2172a-0a4a-4e1e-b9a2-486afafce0e7')\"\n",
              "            title=\"Convert this dataframe to an interactive table.\"\n",
              "            style=\"display:none;\">\n",
              "\n",
              "  <svg xmlns=\"http://www.w3.org/2000/svg\" height=\"24px\" viewBox=\"0 -960 960 960\">\n",
              "    <path d=\"M120-120v-720h720v720H120Zm60-500h600v-160H180v160Zm220 220h160v-160H400v160Zm0 220h160v-160H400v160ZM180-400h160v-160H180v160Zm440 0h160v-160H620v160ZM180-180h160v-160H180v160Zm440 0h160v-160H620v160Z\"/>\n",
              "  </svg>\n",
              "    </button>\n",
              "\n",
              "  <style>\n",
              "    .colab-df-container {\n",
              "      display:flex;\n",
              "      gap: 12px;\n",
              "    }\n",
              "\n",
              "    .colab-df-convert {\n",
              "      background-color: #E8F0FE;\n",
              "      border: none;\n",
              "      border-radius: 50%;\n",
              "      cursor: pointer;\n",
              "      display: none;\n",
              "      fill: #1967D2;\n",
              "      height: 32px;\n",
              "      padding: 0 0 0 0;\n",
              "      width: 32px;\n",
              "    }\n",
              "\n",
              "    .colab-df-convert:hover {\n",
              "      background-color: #E2EBFA;\n",
              "      box-shadow: 0px 1px 2px rgba(60, 64, 67, 0.3), 0px 1px 3px 1px rgba(60, 64, 67, 0.15);\n",
              "      fill: #174EA6;\n",
              "    }\n",
              "\n",
              "    .colab-df-buttons div {\n",
              "      margin-bottom: 4px;\n",
              "    }\n",
              "\n",
              "    [theme=dark] .colab-df-convert {\n",
              "      background-color: #3B4455;\n",
              "      fill: #D2E3FC;\n",
              "    }\n",
              "\n",
              "    [theme=dark] .colab-df-convert:hover {\n",
              "      background-color: #434B5C;\n",
              "      box-shadow: 0px 1px 3px 1px rgba(0, 0, 0, 0.15);\n",
              "      filter: drop-shadow(0px 1px 2px rgba(0, 0, 0, 0.3));\n",
              "      fill: #FFFFFF;\n",
              "    }\n",
              "  </style>\n",
              "\n",
              "    <script>\n",
              "      const buttonEl =\n",
              "        document.querySelector('#df-a4f2172a-0a4a-4e1e-b9a2-486afafce0e7 button.colab-df-convert');\n",
              "      buttonEl.style.display =\n",
              "        google.colab.kernel.accessAllowed ? 'block' : 'none';\n",
              "\n",
              "      async function convertToInteractive(key) {\n",
              "        const element = document.querySelector('#df-a4f2172a-0a4a-4e1e-b9a2-486afafce0e7');\n",
              "        const dataTable =\n",
              "          await google.colab.kernel.invokeFunction('convertToInteractive',\n",
              "                                                    [key], {});\n",
              "        if (!dataTable) return;\n",
              "\n",
              "        const docLinkHtml = 'Like what you see? Visit the ' +\n",
              "          '<a target=\"_blank\" href=https://colab.research.google.com/notebooks/data_table.ipynb>data table notebook</a>'\n",
              "          + ' to learn more about interactive tables.';\n",
              "        element.innerHTML = '';\n",
              "        dataTable['output_type'] = 'display_data';\n",
              "        await google.colab.output.renderOutput(dataTable, element);\n",
              "        const docLink = document.createElement('div');\n",
              "        docLink.innerHTML = docLinkHtml;\n",
              "        element.appendChild(docLink);\n",
              "      }\n",
              "    </script>\n",
              "  </div>\n",
              "\n",
              "\n",
              "<div id=\"df-8067a38c-5603-4474-a9fa-32b477014ee1\">\n",
              "  <button class=\"colab-df-quickchart\" onclick=\"quickchart('df-8067a38c-5603-4474-a9fa-32b477014ee1')\"\n",
              "            title=\"Suggest charts\"\n",
              "            style=\"display:none;\">\n",
              "\n",
              "<svg xmlns=\"http://www.w3.org/2000/svg\" height=\"24px\"viewBox=\"0 0 24 24\"\n",
              "     width=\"24px\">\n",
              "    <g>\n",
              "        <path d=\"M19 3H5c-1.1 0-2 .9-2 2v14c0 1.1.9 2 2 2h14c1.1 0 2-.9 2-2V5c0-1.1-.9-2-2-2zM9 17H7v-7h2v7zm4 0h-2V7h2v10zm4 0h-2v-4h2v4z\"/>\n",
              "    </g>\n",
              "</svg>\n",
              "  </button>\n",
              "\n",
              "<style>\n",
              "  .colab-df-quickchart {\n",
              "      --bg-color: #E8F0FE;\n",
              "      --fill-color: #1967D2;\n",
              "      --hover-bg-color: #E2EBFA;\n",
              "      --hover-fill-color: #174EA6;\n",
              "      --disabled-fill-color: #AAA;\n",
              "      --disabled-bg-color: #DDD;\n",
              "  }\n",
              "\n",
              "  [theme=dark] .colab-df-quickchart {\n",
              "      --bg-color: #3B4455;\n",
              "      --fill-color: #D2E3FC;\n",
              "      --hover-bg-color: #434B5C;\n",
              "      --hover-fill-color: #FFFFFF;\n",
              "      --disabled-bg-color: #3B4455;\n",
              "      --disabled-fill-color: #666;\n",
              "  }\n",
              "\n",
              "  .colab-df-quickchart {\n",
              "    background-color: var(--bg-color);\n",
              "    border: none;\n",
              "    border-radius: 50%;\n",
              "    cursor: pointer;\n",
              "    display: none;\n",
              "    fill: var(--fill-color);\n",
              "    height: 32px;\n",
              "    padding: 0;\n",
              "    width: 32px;\n",
              "  }\n",
              "\n",
              "  .colab-df-quickchart:hover {\n",
              "    background-color: var(--hover-bg-color);\n",
              "    box-shadow: 0 1px 2px rgba(60, 64, 67, 0.3), 0 1px 3px 1px rgba(60, 64, 67, 0.15);\n",
              "    fill: var(--button-hover-fill-color);\n",
              "  }\n",
              "\n",
              "  .colab-df-quickchart-complete:disabled,\n",
              "  .colab-df-quickchart-complete:disabled:hover {\n",
              "    background-color: var(--disabled-bg-color);\n",
              "    fill: var(--disabled-fill-color);\n",
              "    box-shadow: none;\n",
              "  }\n",
              "\n",
              "  .colab-df-spinner {\n",
              "    border: 2px solid var(--fill-color);\n",
              "    border-color: transparent;\n",
              "    border-bottom-color: var(--fill-color);\n",
              "    animation:\n",
              "      spin 1s steps(1) infinite;\n",
              "  }\n",
              "\n",
              "  @keyframes spin {\n",
              "    0% {\n",
              "      border-color: transparent;\n",
              "      border-bottom-color: var(--fill-color);\n",
              "      border-left-color: var(--fill-color);\n",
              "    }\n",
              "    20% {\n",
              "      border-color: transparent;\n",
              "      border-left-color: var(--fill-color);\n",
              "      border-top-color: var(--fill-color);\n",
              "    }\n",
              "    30% {\n",
              "      border-color: transparent;\n",
              "      border-left-color: var(--fill-color);\n",
              "      border-top-color: var(--fill-color);\n",
              "      border-right-color: var(--fill-color);\n",
              "    }\n",
              "    40% {\n",
              "      border-color: transparent;\n",
              "      border-right-color: var(--fill-color);\n",
              "      border-top-color: var(--fill-color);\n",
              "    }\n",
              "    60% {\n",
              "      border-color: transparent;\n",
              "      border-right-color: var(--fill-color);\n",
              "    }\n",
              "    80% {\n",
              "      border-color: transparent;\n",
              "      border-right-color: var(--fill-color);\n",
              "      border-bottom-color: var(--fill-color);\n",
              "    }\n",
              "    90% {\n",
              "      border-color: transparent;\n",
              "      border-bottom-color: var(--fill-color);\n",
              "    }\n",
              "  }\n",
              "</style>\n",
              "\n",
              "  <script>\n",
              "    async function quickchart(key) {\n",
              "      const quickchartButtonEl =\n",
              "        document.querySelector('#' + key + ' button');\n",
              "      quickchartButtonEl.disabled = true;  // To prevent multiple clicks.\n",
              "      quickchartButtonEl.classList.add('colab-df-spinner');\n",
              "      try {\n",
              "        const charts = await google.colab.kernel.invokeFunction(\n",
              "            'suggestCharts', [key], {});\n",
              "      } catch (error) {\n",
              "        console.error('Error during call to suggestCharts:', error);\n",
              "      }\n",
              "      quickchartButtonEl.classList.remove('colab-df-spinner');\n",
              "      quickchartButtonEl.classList.add('colab-df-quickchart-complete');\n",
              "    }\n",
              "    (() => {\n",
              "      let quickchartButtonEl =\n",
              "        document.querySelector('#df-8067a38c-5603-4474-a9fa-32b477014ee1 button');\n",
              "      quickchartButtonEl.style.display =\n",
              "        google.colab.kernel.accessAllowed ? 'block' : 'none';\n",
              "    })();\n",
              "  </script>\n",
              "</div>\n",
              "\n",
              "    </div>\n",
              "  </div>\n"
            ],
            "application/vnd.google.colaboratory.intrinsic+json": {
              "type": "dataframe",
              "variable_name": "df_train",
              "summary": "{\n  \"name\": \"df_train\",\n  \"rows\": 11919,\n  \"fields\": [\n    {\n      \"column\": \"id\",\n      \"properties\": {\n        \"dtype\": \"number\",\n        \"std\": 3440,\n        \"min\": 0,\n        \"max\": 11918,\n        \"num_unique_values\": 11919,\n        \"samples\": [\n          6408,\n          7678,\n          4843\n        ],\n        \"semantic_type\": \"\",\n        \"description\": \"\"\n      }\n    },\n    {\n      \"column\": \"text\",\n      \"properties\": {\n        \"dtype\": \"string\",\n        \"num_unique_values\": 11319,\n        \"samples\": [\n          \"Rusiya il\\u0259 \\u00c7in aras\\u0131nda ilk avtomobil k\\u00f6rp\\u00fcs\\u00fc a\\u00e7\\u0131ld\\u0131 Rusiyan\\u0131n Blaqove\\u015f\\u015fensk \\u015f\\u0259h\\u0259rind\\u0259n \\u00c7inin Heihe \\u015f\\u0259h\\u0259rin\\u0259 ged\\u0259n avtomobil k\\u00f6rp\\u00fcs\\u00fcnd\\u0259 y\\u00fck da\\u015f\\u0131malar\\u0131 ba\\u015flay\\u0131b. \\u0130lk y\\u00fck ma\\u015f\\u0131nlar\\u0131 \\u201cKani-Kurqan \\u2013 Heihe\\u201d ke\\u00e7id m\\u0259nt\\u0259q\\u0259si \\u00fcz\\u0259rind\\u0259n a\\u00e7\\u0131q k\\u00f6rp\\u00fcn\\u00fcn \\u00fcst\\u00fcnd\\u0259n ke\\u00e7ib - mayel\\u0259\\u015fdirilmi\\u015f t\\u0259bii qazla i\\u015fl\\u0259y\\u0259n s\\u0259kkiz Rusiya\\u00a0y\\u00fck ma\\u015f\\u0131n\\u0131 \\u00c7in\\u0259 yola d\\u00fc\\u015f\\u00fcb. \\u00c7ind\\u0259n d\\u0259 s\\u0259kkiz y\\u00fck ma\\u015f\\u0131n\\u0131 daxil olub. Onlar Rusiyaya avtomobil \\u015finl\\u0259ri v\\u0259 elektrik avadanl\\u0131qlar\\u0131 \\u00fc\\u00e7\\u00fcn komponentl\\u0259r da\\u015f\\u0131y\\u0131blar. K\\u00f6rp\\u00fcn\\u00fcn tikintisinin d\\u0259y\\u0259ri 19 milyard rubl t\\u0259\\u015fkil edib ki, bunun da 14 milyard\\u0131 Rusiya \\u0259razisin\\u0259 yat\\u0131r\\u0131l\\u0131b. \\u00dcmumi uzunlu\\u011fu 20 kilometr\\u0259 yax\\u0131n olan k\\u00f6rp\\u00fcd\\u0259n h\\u0259r g\\u00fcn 630 y\\u00fck ma\\u015f\\u0131n\\u0131, 164 avtobus v\\u0259 68 minik avtomobili ke\\u00e7\\u0259 bil\\u0259c\\u0259k. M\\u0259nb\\u0259: TASS\",\n          \"Nobel m\\u00fckafat\\u0131 laureat\\u0131: \\\"COP29-dan g\\u00f6zl\\u0259ntimiz t\\u0259hl\\u00fck\\u0259siz d\\u00fcnyaya sahib olmaqd\\u0131r\\\" \\\"\\u0130qliml\\u0259 ba\\u011fl\\u0131 ke\\u00e7iril\\u0259n sammitd\\u0259n g\\u00f6zl\\u0259ntimiz t\\u0259hl\\u00fck\\u0259siz bir d\\u00fcnyaya sahib olmaqd\\u0131r\\\". Oxu.Az bildirir ki, bunu Bak\\u0131da ke\\u00e7iril\\u0259n BMT-nin \\u0130qlim D\\u0259yi\\u015fikliyi \\u00fczr\\u0259 \\u00e7\\u0259r\\u00e7iv\\u0259 Konvensiyas\\u0131n\\u0131n T\\u0259r\\u0259fl\\u0259ri Konfrans\\u0131n\\u0131n 29-cu sessiyas\\u0131na (COP29) qat\\u0131lan Banqlade\\u015f Xalq Respublikas\\u0131n\\u0131n m\\u00fcv\\u0259qq\\u0259ti h\\u00f6kum\\u0259tinin ba\\u015f m\\u00fc\\u015faviri, Nobel m\\u00fckafat\\u00e7\\u0131s\\u0131, UNEC-in rektor m\\u00fc\\u015faviri doktor M\\u0259h\\u0259mm\\u0259d Yunus deyib. \\\"M\\u0259n h\\u0259m ekoloji f\\u0259lak\\u0259td\\u0259n z\\u0259r\\u0259r g\\u00f6r\\u0259n insanlara yard\\u0131m edilm\\u0259si, eyni zamanda da, f\\u0259lak\\u0259tl\\u0259rin qar\\u015f\\u0131s\\u0131n\\u0131n al\\u0131nmas\\u0131 \\u00fc\\u00e7\\u00fcn yollar tap\\u0131lmas\\u0131nda davaml\\u0131 t\\u0259\\u015f\\u0259bb\\u00fcs g\\u00f6st\\u0259rm\\u0259yin vacib oldu\\u011funu d\\u00fc\\u015f\\u00fcn\\u00fcr\\u0259m\\\", - dey\\u0259 Nobel m\\u00fckafat\\u00e7\\u0131s\\u0131 \\u0259lav\\u0259 edib. Ayg\\u00fcn Mirakif\",\n          \"\\u201cCinemaPlus\\u201dda q\\u0131zmar \\u201cKino Gec\\u0259si\\u201d ke\\u00e7irildi - FOTO/V\\u0130DEO Avqustun 10-dan 11-n\\u0259 ke\\u00e7\\u0259n gec\\u0259 \\u201cCinemaPlus Amburan\\u201d kinoteatr\\u0131nda \\u00fc\\u00e7 filmd\\u0259n ibar\\u0259t q\\u0131zmar \\u201cKino Gec\\u0259si\\u201d ba\\u015f tutub. Oxu.Az x\\u0259b\\u0259r verir ki, 22:30-dan s\\u0259h\\u0259r saat 6:00-d\\u0259k qonaqlar \\u00fc\\u00e7\\u00fcn \\u201cM\\u0259ni atan casus\\u201d, \\u201c\\u015e\\u0259r\\u201d v\\u0259 \\u201cCinemazadeh\\u201d studiyas\\u0131nda pe\\u015f\\u0259kar az\\u0259rbaycan dilin\\u0259 dublyaj olunan \\u201cDa\\u011fl\\u0131 ail\\u0259\\u201d filml\\u0259rinin n\\u00fcmayi\\u015fi ke\\u00e7irilib. B\\u00fct\\u00fcn gec\\u0259ni s\\u0259h\\u0259r\\u0259d\\u0259k DJ qonaqlar\\u0131 dinamik musiqi il\\u0259 \\u0259yl\\u0259ndirib. H\\u0259m\\u00e7inin alkoqollu v\\u0259 alkoqolsuz i\\u00e7kil\\u0259r olub. T\\u0259dbirin ke\\u00e7irilm\\u0259sin\\u0259\\u00a0\\u201cCinemazadeh\\u201d dublyaj studiyas\\u0131, \\u201cCinema Distribution\\u201d, \\u201cRed Bull\\u201d, \\u201cGanja Sharab\\u201d, \\u201cBanketnaya\\u201d araqlar\\u0131 v\\u0259 \\u201cGala\\u201d \\u015f\\u0259rablar\\u0131 d\\u0259st\\u0259k olub. \\u201cCinemaPlus\\u201d kinoteatrlar \\u015f\\u0259b\\u0259k\\u0259si h\\u0259r zaman sizl\\u0259r\\u0259 xo\\u015f s\\u00fcrprizl\\u0259r etm\\u0259k v\\u0259 kino d\\u00fcnyas\\u0131nda olan \\u0259n son premyeralarla\\u00a0sevindirm\\u0259y\\u0259 haz\\u0131rd\\u0131r. \\u201cCinemaPlus\\u201dda q\\u0131zmar \\u201cKino Gec\\u0259si\\u201d ke\\u00e7irildi - FOTO/V\\u0130DEO www.oxu.az\"\n        ],\n        \"semantic_type\": \"\",\n        \"description\": \"\"\n      }\n    },\n    {\n      \"column\": \"category\",\n      \"properties\": {\n        \"dtype\": \"category\",\n        \"num_unique_values\": 16,\n        \"samples\": [\n          \"siyaset\",\n          \"medeniyyet\",\n          \"iqtisadiyyat\"\n        ],\n        \"semantic_type\": \"\",\n        \"description\": \"\"\n      }\n    }\n  ]\n}"
            }
          },
          "metadata": {},
          "execution_count": 6
        }
      ],
      "source": [
        "df_train = pd.read_csv('/content/drive/MyDrive/Kaggle/ufaz-news-data/train.csv')\n",
        "df_test = pd.read_csv('/content/drive/MyDrive/Kaggle/ufaz-news-data/test.csv')\n",
        "df_train.head()"
      ]
    },
    {
      "cell_type": "markdown",
      "metadata": {
        "id": "6r1KOT6sbMoY"
      },
      "source": [
        "**Exploratory Data Analysis**"
      ]
    },
    {
      "cell_type": "code",
      "execution_count": 7,
      "metadata": {
        "colab": {
          "base_uri": "https://localhost:8080/"
        },
        "id": "V01hCl6ob6KY",
        "outputId": "72c4026e-fe56-4dd1-e792-d53dfc174556"
      },
      "outputs": [
        {
          "output_type": "stream",
          "name": "stdout",
          "text": [
            "<class 'pandas.core.frame.DataFrame'>\n",
            "RangeIndex: 11919 entries, 0 to 11918\n",
            "Data columns (total 3 columns):\n",
            " #   Column    Non-Null Count  Dtype \n",
            "---  ------    --------------  ----- \n",
            " 0   id        11919 non-null  int64 \n",
            " 1   text      11919 non-null  object\n",
            " 2   category  11919 non-null  object\n",
            "dtypes: int64(1), object(2)\n",
            "memory usage: 279.5+ KB\n"
          ]
        }
      ],
      "source": [
        "df_train.info()"
      ]
    },
    {
      "cell_type": "code",
      "execution_count": 8,
      "metadata": {
        "colab": {
          "base_uri": "https://localhost:8080/",
          "height": 178
        },
        "id": "aQReWhqlb_4d",
        "outputId": "adf5909e-7993-4bc2-beea-7e1f7a538ed9"
      },
      "outputs": [
        {
          "output_type": "execute_result",
          "data": {
            "text/plain": [
              "id          0\n",
              "text        0\n",
              "category    0\n",
              "dtype: int64"
            ],
            "text/html": [
              "<div>\n",
              "<style scoped>\n",
              "    .dataframe tbody tr th:only-of-type {\n",
              "        vertical-align: middle;\n",
              "    }\n",
              "\n",
              "    .dataframe tbody tr th {\n",
              "        vertical-align: top;\n",
              "    }\n",
              "\n",
              "    .dataframe thead th {\n",
              "        text-align: right;\n",
              "    }\n",
              "</style>\n",
              "<table border=\"1\" class=\"dataframe\">\n",
              "  <thead>\n",
              "    <tr style=\"text-align: right;\">\n",
              "      <th></th>\n",
              "      <th>0</th>\n",
              "    </tr>\n",
              "  </thead>\n",
              "  <tbody>\n",
              "    <tr>\n",
              "      <th>id</th>\n",
              "      <td>0</td>\n",
              "    </tr>\n",
              "    <tr>\n",
              "      <th>text</th>\n",
              "      <td>0</td>\n",
              "    </tr>\n",
              "    <tr>\n",
              "      <th>category</th>\n",
              "      <td>0</td>\n",
              "    </tr>\n",
              "  </tbody>\n",
              "</table>\n",
              "</div><br><label><b>dtype:</b> int64</label>"
            ]
          },
          "metadata": {},
          "execution_count": 8
        }
      ],
      "source": [
        "df_train.isnull().sum()"
      ]
    },
    {
      "cell_type": "markdown",
      "metadata": {
        "id": "y5JD33yifat6"
      },
      "source": [
        "It appears that there are no missing values ​​in the data, with 0 missing values ​​in each column. This is a good indicator and there is no need to do any cleaning or changes to the data to proceed to the next steps."
      ]
    },
    {
      "cell_type": "code",
      "execution_count": 9,
      "metadata": {
        "colab": {
          "base_uri": "https://localhost:8080/",
          "height": 617
        },
        "id": "RQeFErOhc_jK",
        "outputId": "77308938-47a1-4beb-9848-399b2787bcf8"
      },
      "outputs": [
        {
          "output_type": "execute_result",
          "data": {
            "text/plain": [
              "category\n",
              "dunya             1836\n",
              "siyaset           1640\n",
              "cemiyyet          1563\n",
              "digar             1314\n",
              "kriminal          1124\n",
              "turizm             930\n",
              "iqtisadiyyat       681\n",
              "ordu               611\n",
              "medeniyyet         519\n",
              "idman              508\n",
              "shou-biznes        333\n",
              "ikt                208\n",
              "hadise             206\n",
              "maraqli            181\n",
              "musahibe           180\n",
              "cinemastercard      85\n",
              "Name: count, dtype: int64"
            ],
            "text/html": [
              "<div>\n",
              "<style scoped>\n",
              "    .dataframe tbody tr th:only-of-type {\n",
              "        vertical-align: middle;\n",
              "    }\n",
              "\n",
              "    .dataframe tbody tr th {\n",
              "        vertical-align: top;\n",
              "    }\n",
              "\n",
              "    .dataframe thead th {\n",
              "        text-align: right;\n",
              "    }\n",
              "</style>\n",
              "<table border=\"1\" class=\"dataframe\">\n",
              "  <thead>\n",
              "    <tr style=\"text-align: right;\">\n",
              "      <th></th>\n",
              "      <th>count</th>\n",
              "    </tr>\n",
              "    <tr>\n",
              "      <th>category</th>\n",
              "      <th></th>\n",
              "    </tr>\n",
              "  </thead>\n",
              "  <tbody>\n",
              "    <tr>\n",
              "      <th>dunya</th>\n",
              "      <td>1836</td>\n",
              "    </tr>\n",
              "    <tr>\n",
              "      <th>siyaset</th>\n",
              "      <td>1640</td>\n",
              "    </tr>\n",
              "    <tr>\n",
              "      <th>cemiyyet</th>\n",
              "      <td>1563</td>\n",
              "    </tr>\n",
              "    <tr>\n",
              "      <th>digar</th>\n",
              "      <td>1314</td>\n",
              "    </tr>\n",
              "    <tr>\n",
              "      <th>kriminal</th>\n",
              "      <td>1124</td>\n",
              "    </tr>\n",
              "    <tr>\n",
              "      <th>turizm</th>\n",
              "      <td>930</td>\n",
              "    </tr>\n",
              "    <tr>\n",
              "      <th>iqtisadiyyat</th>\n",
              "      <td>681</td>\n",
              "    </tr>\n",
              "    <tr>\n",
              "      <th>ordu</th>\n",
              "      <td>611</td>\n",
              "    </tr>\n",
              "    <tr>\n",
              "      <th>medeniyyet</th>\n",
              "      <td>519</td>\n",
              "    </tr>\n",
              "    <tr>\n",
              "      <th>idman</th>\n",
              "      <td>508</td>\n",
              "    </tr>\n",
              "    <tr>\n",
              "      <th>shou-biznes</th>\n",
              "      <td>333</td>\n",
              "    </tr>\n",
              "    <tr>\n",
              "      <th>ikt</th>\n",
              "      <td>208</td>\n",
              "    </tr>\n",
              "    <tr>\n",
              "      <th>hadise</th>\n",
              "      <td>206</td>\n",
              "    </tr>\n",
              "    <tr>\n",
              "      <th>maraqli</th>\n",
              "      <td>181</td>\n",
              "    </tr>\n",
              "    <tr>\n",
              "      <th>musahibe</th>\n",
              "      <td>180</td>\n",
              "    </tr>\n",
              "    <tr>\n",
              "      <th>cinemastercard</th>\n",
              "      <td>85</td>\n",
              "    </tr>\n",
              "  </tbody>\n",
              "</table>\n",
              "</div><br><label><b>dtype:</b> int64</label>"
            ]
          },
          "metadata": {},
          "execution_count": 9
        }
      ],
      "source": [
        "df_train['category'].value_counts()"
      ]
    },
    {
      "cell_type": "markdown",
      "metadata": {
        "id": "5sW2NdUwh_-d"
      },
      "source": [
        "This result indicates that some categories are overrepresented in the data, meaning that the data is unbalanced. For example, the category \"world\" occurs 1836 times, but \"cinemastercard\" occurs only 85 times. This imbalance will increase the likelihood that the model will learn better against certain classes, and can sometimes lead to poor performance for underrepresented categories."
      ]
    },
    {
      "cell_type": "code",
      "execution_count": 10,
      "metadata": {
        "colab": {
          "base_uri": "https://localhost:8080/",
          "height": 544
        },
        "id": "PG3Uo5ujiCqD",
        "outputId": "5bbccabc-b378-4b66-edcf-83cf17890ff8"
      },
      "outputs": [
        {
          "output_type": "display_data",
          "data": {
            "text/plain": [
              "<Figure size 640x480 with 1 Axes>"
            ],
            "image/png": "[encoded data removed]"
          },
          "metadata": {}
        }
      ],
      "source": [
        "sns.countplot(x='category', data=df_train)\n",
        "plt.xticks(rotation=90)\n",
        "plt.show()"
      ]
    },
    {
      "cell_type": "code",
      "execution_count": 11,
      "metadata": {
        "id": "-Ua4OarqkNU5"
      },
      "outputs": [],
      "source": [
        "df_train.drop('id',axis=1,inplace=True)"
      ]
    },
    {
      "cell_type": "code",
      "execution_count": 12,
      "metadata": {
        "colab": {
          "base_uri": "https://localhost:8080/",
          "height": 206
        },
        "id": "83FYF_fxkTdw",
        "outputId": "d9b03b0b-659b-466d-f5f1-8bb7b9238b99"
      },
      "outputs": [
        {
          "output_type": "execute_result",
          "data": {
            "text/plain": [
              "                                                text    category\n",
              "0  Ukrayna dalanda, Qərblə Rusiya sövdələşmə həvə...     siyaset\n",
              "1  Aktyor Nurlan Rüstəmov: “Bizə lal-kar deyilməs...  medeniyyet\n",
              "2  Azərbaycana turist axını: Rusiyalı səyyahların...      turizm\n",
              "3  Heydər Əliyev Sarayına yeni direktor təyin olu...    cemiyyet\n",
              "4  Türkiyəli mütəxəssisdən açıqlama: \"Həddindən a...       dunya"
            ],
            "text/html": [
              "\n",
              "  <div id=\"df-702b1fa3-9fbc-46bd-aaaf-ab11489854ed\" class=\"colab-df-container\">\n",
              "    <div>\n",
              "<style scoped>\n",
              "    .dataframe tbody tr th:only-of-type {\n",
              "        vertical-align: middle;\n",
              "    }\n",
              "\n",
              "    .dataframe tbody tr th {\n",
              "        vertical-align: top;\n",
              "    }\n",
              "\n",
              "    .dataframe thead th {\n",
              "        text-align: right;\n",
              "    }\n",
              "</style>\n",
              "<table border=\"1\" class=\"dataframe\">\n",
              "  <thead>\n",
              "    <tr style=\"text-align: right;\">\n",
              "      <th></th>\n",
              "      <th>text</th>\n",
              "      <th>category</th>\n",
              "    </tr>\n",
              "  </thead>\n",
              "  <tbody>\n",
              "    <tr>\n",
              "      <th>0</th>\n",
              "      <td>Ukrayna dalanda, Qərblə Rusiya sövdələşmə həvə...</td>\n",
              "      <td>siyaset</td>\n",
              "    </tr>\n",
              "    <tr>\n",
              "      <th>1</th>\n",
              "      <td>Aktyor Nurlan Rüstəmov: “Bizə lal-kar deyilməs...</td>\n",
              "      <td>medeniyyet</td>\n",
              "    </tr>\n",
              "    <tr>\n",
              "      <th>2</th>\n",
              "      <td>Azərbaycana turist axını: Rusiyalı səyyahların...</td>\n",
              "      <td>turizm</td>\n",
              "    </tr>\n",
              "    <tr>\n",
              "      <th>3</th>\n",
              "      <td>Heydər Əliyev Sarayına yeni direktor təyin olu...</td>\n",
              "      <td>cemiyyet</td>\n",
              "    </tr>\n",
              "    <tr>\n",
              "      <th>4</th>\n",
              "      <td>Türkiyəli mütəxəssisdən açıqlama: \"Həddindən a...</td>\n",
              "      <td>dunya</td>\n",
              "    </tr>\n",
              "  </tbody>\n",
              "</table>\n",
              "</div>\n",
              "    <div class=\"colab-df-buttons\">\n",
              "\n",
              "  <div class=\"colab-df-container\">\n",
              "    <button class=\"colab-df-convert\" onclick=\"convertToInteractive('df-702b1fa3-9fbc-46bd-aaaf-ab11489854ed')\"\n",
              "            title=\"Convert this dataframe to an interactive table.\"\n",
              "            style=\"display:none;\">\n",
              "\n",
              "  <svg xmlns=\"http://www.w3.org/2000/svg\" height=\"24px\" viewBox=\"0 -960 960 960\">\n",
              "    <path d=\"M120-120v-720h720v720H120Zm60-500h600v-160H180v160Zm220 220h160v-160H400v160Zm0 220h160v-160H400v160ZM180-400h160v-160H180v160Zm440 0h160v-160H620v160ZM180-180h160v-160H180v160Zm440 0h160v-160H620v160Z\"/>\n",
              "  </svg>\n",
              "    </button>\n",
              "\n",
              "  <style>\n",
              "    .colab-df-container {\n",
              "      display:flex;\n",
              "      gap: 12px;\n",
              "    }\n",
              "\n",
              "    .colab-df-convert {\n",
              "      background-color: #E8F0FE;\n",
              "      border: none;\n",
              "      border-radius: 50%;\n",
              "      cursor: pointer;\n",
              "      display: none;\n",
              "      fill: #1967D2;\n",
              "      height: 32px;\n",
              "      padding: 0 0 0 0;\n",
              "      width: 32px;\n",
              "    }\n",
              "\n",
              "    .colab-df-convert:hover {\n",
              "      background-color: #E2EBFA;\n",
              "      box-shadow: 0px 1px 2px rgba(60, 64, 67, 0.3), 0px 1px 3px 1px rgba(60, 64, 67, 0.15);\n",
              "      fill: #174EA6;\n",
              "    }\n",
              "\n",
              "    .colab-df-buttons div {\n",
              "      margin-bottom: 4px;\n",
              "    }\n",
              "\n",
              "    [theme=dark] .colab-df-convert {\n",
              "      background-color: #3B4455;\n",
              "      fill: #D2E3FC;\n",
              "    }\n",
              "\n",
              "    [theme=dark] .colab-df-convert:hover {\n",
              "      background-color: #434B5C;\n",
              "      box-shadow: 0px 1px 3px 1px rgba(0, 0, 0, 0.15);\n",
              "      filter: drop-shadow(0px 1px 2px rgba(0, 0, 0, 0.3));\n",
              "      fill: #FFFFFF;\n",
              "    }\n",
              "  </style>\n",
              "\n",
              "    <script>\n",
              "      const buttonEl =\n",
              "        document.querySelector('#df-702b1fa3-9fbc-46bd-aaaf-ab11489854ed button.colab-df-convert');\n",
              "      buttonEl.style.display =\n",
              "        google.colab.kernel.accessAllowed ? 'block' : 'none';\n",
              "\n",
              "      async function convertToInteractive(key) {\n",
              "        const element = document.querySelector('#df-702b1fa3-9fbc-46bd-aaaf-ab11489854ed');\n",
              "        const dataTable =\n",
              "          await google.colab.kernel.invokeFunction('convertToInteractive',\n",
              "                                                    [key], {});\n",
              "        if (!dataTable) return;\n",
              "\n",
              "        const docLinkHtml = 'Like what you see? Visit the ' +\n",
              "          '<a target=\"_blank\" href=https://colab.research.google.com/notebooks/data_table.ipynb>data table notebook</a>'\n",
              "          + ' to learn more about interactive tables.';\n",
              "        element.innerHTML = '';\n",
              "        dataTable['output_type'] = 'display_data';\n",
              "        await google.colab.output.renderOutput(dataTable, element);\n",
              "        const docLink = document.createElement('div');\n",
              "        docLink.innerHTML = docLinkHtml;\n",
              "        element.appendChild(docLink);\n",
              "      }\n",
              "    </script>\n",
              "  </div>\n",
              "\n",
              "\n",
              "<div id=\"df-42c43381-2bb5-4564-98b6-0a208ace74bb\">\n",
              "  <button class=\"colab-df-quickchart\" onclick=\"quickchart('df-42c43381-2bb5-4564-98b6-0a208ace74bb')\"\n",
              "            title=\"Suggest charts\"\n",
              "            style=\"display:none;\">\n",
              "\n",
              "<svg xmlns=\"http://www.w3.org/2000/svg\" height=\"24px\"viewBox=\"0 0 24 24\"\n",
              "     width=\"24px\">\n",
              "    <g>\n",
              "        <path d=\"M19 3H5c-1.1 0-2 .9-2 2v14c0 1.1.9 2 2 2h14c1.1 0 2-.9 2-2V5c0-1.1-.9-2-2-2zM9 17H7v-7h2v7zm4 0h-2V7h2v10zm4 0h-2v-4h2v4z\"/>\n",
              "    </g>\n",
              "</svg>\n",
              "  </button>\n",
              "\n",
              "<style>\n",
              "  .colab-df-quickchart {\n",
              "      --bg-color: #E8F0FE;\n",
              "      --fill-color: #1967D2;\n",
              "      --hover-bg-color: #E2EBFA;\n",
              "      --hover-fill-color: #174EA6;\n",
              "      --disabled-fill-color: #AAA;\n",
              "      --disabled-bg-color: #DDD;\n",
              "  }\n",
              "\n",
              "  [theme=dark] .colab-df-quickchart {\n",
              "      --bg-color: #3B4455;\n",
              "      --fill-color: #D2E3FC;\n",
              "      --hover-bg-color: #434B5C;\n",
              "      --hover-fill-color: #FFFFFF;\n",
              "      --disabled-bg-color: #3B4455;\n",
              "      --disabled-fill-color: #666;\n",
              "  }\n",
              "\n",
              "  .colab-df-quickchart {\n",
              "    background-color: var(--bg-color);\n",
              "    border: none;\n",
              "    border-radius: 50%;\n",
              "    cursor: pointer;\n",
              "    display: none;\n",
              "    fill: var(--fill-color);\n",
              "    height: 32px;\n",
              "    padding: 0;\n",
              "    width: 32px;\n",
              "  }\n",
              "\n",
              "  .colab-df-quickchart:hover {\n",
              "    background-color: var(--hover-bg-color);\n",
              "    box-shadow: 0 1px 2px rgba(60, 64, 67, 0.3), 0 1px 3px 1px rgba(60, 64, 67, 0.15);\n",
              "    fill: var(--button-hover-fill-color);\n",
              "  }\n",
              "\n",
              "  .colab-df-quickchart-complete:disabled,\n",
              "  .colab-df-quickchart-complete:disabled:hover {\n",
              "    background-color: var(--disabled-bg-color);\n",
              "    fill: var(--disabled-fill-color);\n",
              "    box-shadow: none;\n",
              "  }\n",
              "\n",
              "  .colab-df-spinner {\n",
              "    border: 2px solid var(--fill-color);\n",
              "    border-color: transparent;\n",
              "    border-bottom-color: var(--fill-color);\n",
              "    animation:\n",
              "      spin 1s steps(1) infinite;\n",
              "  }\n",
              "\n",
              "  @keyframes spin {\n",
              "    0% {\n",
              "      border-color: transparent;\n",
              "      border-bottom-color: var(--fill-color);\n",
              "      border-left-color: var(--fill-color);\n",
              "    }\n",
              "    20% {\n",
              "      border-color: transparent;\n",
              "      border-left-color: var(--fill-color);\n",
              "      border-top-color: var(--fill-color);\n",
              "    }\n",
              "    30% {\n",
              "      border-color: transparent;\n",
              "      border-left-color: var(--fill-color);\n",
              "      border-top-color: var(--fill-color);\n",
              "      border-right-color: var(--fill-color);\n",
              "    }\n",
              "    40% {\n",
              "      border-color: transparent;\n",
              "      border-right-color: var(--fill-color);\n",
              "      border-top-color: var(--fill-color);\n",
              "    }\n",
              "    60% {\n",
              "      border-color: transparent;\n",
              "      border-right-color: var(--fill-color);\n",
              "    }\n",
              "    80% {\n",
              "      border-color: transparent;\n",
              "      border-right-color: var(--fill-color);\n",
              "      border-bottom-color: var(--fill-color);\n",
              "    }\n",
              "    90% {\n",
              "      border-color: transparent;\n",
              "      border-bottom-color: var(--fill-color);\n",
              "    }\n",
              "  }\n",
              "</style>\n",
              "\n",
              "  <script>\n",
              "    async function quickchart(key) {\n",
              "      const quickchartButtonEl =\n",
              "        document.querySelector('#' + key + ' button');\n",
              "      quickchartButtonEl.disabled = true;  // To prevent multiple clicks.\n",
              "      quickchartButtonEl.classList.add('colab-df-spinner');\n",
              "      try {\n",
              "        const charts = await google.colab.kernel.invokeFunction(\n",
              "            'suggestCharts', [key], {});\n",
              "      } catch (error) {\n",
              "        console.error('Error during call to suggestCharts:', error);\n",
              "      }\n",
              "      quickchartButtonEl.classList.remove('colab-df-spinner');\n",
              "      quickchartButtonEl.classList.add('colab-df-quickchart-complete');\n",
              "    }\n",
              "    (() => {\n",
              "      let quickchartButtonEl =\n",
              "        document.querySelector('#df-42c43381-2bb5-4564-98b6-0a208ace74bb button');\n",
              "      quickchartButtonEl.style.display =\n",
              "        google.colab.kernel.accessAllowed ? 'block' : 'none';\n",
              "    })();\n",
              "  </script>\n",
              "</div>\n",
              "\n",
              "    </div>\n",
              "  </div>\n"
            ],
            "application/vnd.google.colaboratory.intrinsic+json": {
              "type": "dataframe",
              "variable_name": "df_train",
              "summary": "{\n  \"name\": \"df_train\",\n  \"rows\": 11919,\n  \"fields\": [\n    {\n      \"column\": \"text\",\n      \"properties\": {\n        \"dtype\": \"string\",\n        \"num_unique_values\": 11319,\n        \"samples\": [\n          \"Rusiya il\\u0259 \\u00c7in aras\\u0131nda ilk avtomobil k\\u00f6rp\\u00fcs\\u00fc a\\u00e7\\u0131ld\\u0131 Rusiyan\\u0131n Blaqove\\u015f\\u015fensk \\u015f\\u0259h\\u0259rind\\u0259n \\u00c7inin Heihe \\u015f\\u0259h\\u0259rin\\u0259 ged\\u0259n avtomobil k\\u00f6rp\\u00fcs\\u00fcnd\\u0259 y\\u00fck da\\u015f\\u0131malar\\u0131 ba\\u015flay\\u0131b. \\u0130lk y\\u00fck ma\\u015f\\u0131nlar\\u0131 \\u201cKani-Kurqan \\u2013 Heihe\\u201d ke\\u00e7id m\\u0259nt\\u0259q\\u0259si \\u00fcz\\u0259rind\\u0259n a\\u00e7\\u0131q k\\u00f6rp\\u00fcn\\u00fcn \\u00fcst\\u00fcnd\\u0259n ke\\u00e7ib - mayel\\u0259\\u015fdirilmi\\u015f t\\u0259bii qazla i\\u015fl\\u0259y\\u0259n s\\u0259kkiz Rusiya\\u00a0y\\u00fck ma\\u015f\\u0131n\\u0131 \\u00c7in\\u0259 yola d\\u00fc\\u015f\\u00fcb. \\u00c7ind\\u0259n d\\u0259 s\\u0259kkiz y\\u00fck ma\\u015f\\u0131n\\u0131 daxil olub. Onlar Rusiyaya avtomobil \\u015finl\\u0259ri v\\u0259 elektrik avadanl\\u0131qlar\\u0131 \\u00fc\\u00e7\\u00fcn komponentl\\u0259r da\\u015f\\u0131y\\u0131blar. K\\u00f6rp\\u00fcn\\u00fcn tikintisinin d\\u0259y\\u0259ri 19 milyard rubl t\\u0259\\u015fkil edib ki, bunun da 14 milyard\\u0131 Rusiya \\u0259razisin\\u0259 yat\\u0131r\\u0131l\\u0131b. \\u00dcmumi uzunlu\\u011fu 20 kilometr\\u0259 yax\\u0131n olan k\\u00f6rp\\u00fcd\\u0259n h\\u0259r g\\u00fcn 630 y\\u00fck ma\\u015f\\u0131n\\u0131, 164 avtobus v\\u0259 68 minik avtomobili ke\\u00e7\\u0259 bil\\u0259c\\u0259k. M\\u0259nb\\u0259: TASS\",\n          \"Nobel m\\u00fckafat\\u0131 laureat\\u0131: \\\"COP29-dan g\\u00f6zl\\u0259ntimiz t\\u0259hl\\u00fck\\u0259siz d\\u00fcnyaya sahib olmaqd\\u0131r\\\" \\\"\\u0130qliml\\u0259 ba\\u011fl\\u0131 ke\\u00e7iril\\u0259n sammitd\\u0259n g\\u00f6zl\\u0259ntimiz t\\u0259hl\\u00fck\\u0259siz bir d\\u00fcnyaya sahib olmaqd\\u0131r\\\". Oxu.Az bildirir ki, bunu Bak\\u0131da ke\\u00e7iril\\u0259n BMT-nin \\u0130qlim D\\u0259yi\\u015fikliyi \\u00fczr\\u0259 \\u00e7\\u0259r\\u00e7iv\\u0259 Konvensiyas\\u0131n\\u0131n T\\u0259r\\u0259fl\\u0259ri Konfrans\\u0131n\\u0131n 29-cu sessiyas\\u0131na (COP29) qat\\u0131lan Banqlade\\u015f Xalq Respublikas\\u0131n\\u0131n m\\u00fcv\\u0259qq\\u0259ti h\\u00f6kum\\u0259tinin ba\\u015f m\\u00fc\\u015faviri, Nobel m\\u00fckafat\\u00e7\\u0131s\\u0131, UNEC-in rektor m\\u00fc\\u015faviri doktor M\\u0259h\\u0259mm\\u0259d Yunus deyib. \\\"M\\u0259n h\\u0259m ekoloji f\\u0259lak\\u0259td\\u0259n z\\u0259r\\u0259r g\\u00f6r\\u0259n insanlara yard\\u0131m edilm\\u0259si, eyni zamanda da, f\\u0259lak\\u0259tl\\u0259rin qar\\u015f\\u0131s\\u0131n\\u0131n al\\u0131nmas\\u0131 \\u00fc\\u00e7\\u00fcn yollar tap\\u0131lmas\\u0131nda davaml\\u0131 t\\u0259\\u015f\\u0259bb\\u00fcs g\\u00f6st\\u0259rm\\u0259yin vacib oldu\\u011funu d\\u00fc\\u015f\\u00fcn\\u00fcr\\u0259m\\\", - dey\\u0259 Nobel m\\u00fckafat\\u00e7\\u0131s\\u0131 \\u0259lav\\u0259 edib. Ayg\\u00fcn Mirakif\",\n          \"\\u201cCinemaPlus\\u201dda q\\u0131zmar \\u201cKino Gec\\u0259si\\u201d ke\\u00e7irildi - FOTO/V\\u0130DEO Avqustun 10-dan 11-n\\u0259 ke\\u00e7\\u0259n gec\\u0259 \\u201cCinemaPlus Amburan\\u201d kinoteatr\\u0131nda \\u00fc\\u00e7 filmd\\u0259n ibar\\u0259t q\\u0131zmar \\u201cKino Gec\\u0259si\\u201d ba\\u015f tutub. Oxu.Az x\\u0259b\\u0259r verir ki, 22:30-dan s\\u0259h\\u0259r saat 6:00-d\\u0259k qonaqlar \\u00fc\\u00e7\\u00fcn \\u201cM\\u0259ni atan casus\\u201d, \\u201c\\u015e\\u0259r\\u201d v\\u0259 \\u201cCinemazadeh\\u201d studiyas\\u0131nda pe\\u015f\\u0259kar az\\u0259rbaycan dilin\\u0259 dublyaj olunan \\u201cDa\\u011fl\\u0131 ail\\u0259\\u201d filml\\u0259rinin n\\u00fcmayi\\u015fi ke\\u00e7irilib. B\\u00fct\\u00fcn gec\\u0259ni s\\u0259h\\u0259r\\u0259d\\u0259k DJ qonaqlar\\u0131 dinamik musiqi il\\u0259 \\u0259yl\\u0259ndirib. H\\u0259m\\u00e7inin alkoqollu v\\u0259 alkoqolsuz i\\u00e7kil\\u0259r olub. T\\u0259dbirin ke\\u00e7irilm\\u0259sin\\u0259\\u00a0\\u201cCinemazadeh\\u201d dublyaj studiyas\\u0131, \\u201cCinema Distribution\\u201d, \\u201cRed Bull\\u201d, \\u201cGanja Sharab\\u201d, \\u201cBanketnaya\\u201d araqlar\\u0131 v\\u0259 \\u201cGala\\u201d \\u015f\\u0259rablar\\u0131 d\\u0259st\\u0259k olub. \\u201cCinemaPlus\\u201d kinoteatrlar \\u015f\\u0259b\\u0259k\\u0259si h\\u0259r zaman sizl\\u0259r\\u0259 xo\\u015f s\\u00fcrprizl\\u0259r etm\\u0259k v\\u0259 kino d\\u00fcnyas\\u0131nda olan \\u0259n son premyeralarla\\u00a0sevindirm\\u0259y\\u0259 haz\\u0131rd\\u0131r. \\u201cCinemaPlus\\u201dda q\\u0131zmar \\u201cKino Gec\\u0259si\\u201d ke\\u00e7irildi - FOTO/V\\u0130DEO www.oxu.az\"\n        ],\n        \"semantic_type\": \"\",\n        \"description\": \"\"\n      }\n    },\n    {\n      \"column\": \"category\",\n      \"properties\": {\n        \"dtype\": \"category\",\n        \"num_unique_values\": 16,\n        \"samples\": [\n          \"siyaset\",\n          \"medeniyyet\",\n          \"iqtisadiyyat\"\n        ],\n        \"semantic_type\": \"\",\n        \"description\": \"\"\n      }\n    }\n  ]\n}"
            }
          },
          "metadata": {},
          "execution_count": 12
        }
      ],
      "source": [
        "df_train.head()"
      ]
    },
    {
      "cell_type": "code",
      "execution_count": 13,
      "metadata": {
        "colab": {
          "base_uri": "https://localhost:8080/",
          "height": 335
        },
        "id": "EDQXDBYSpjMb",
        "outputId": "10a18fc8-f411-4531-b447-e149c8a5cefa"
      },
      "outputs": [
        {
          "output_type": "execute_result",
          "data": {
            "text/plain": [
              "count    11919.000000\n",
              "mean      1950.172246\n",
              "std       2430.967465\n",
              "min        145.000000\n",
              "25%        749.000000\n",
              "50%       1157.000000\n",
              "75%       2072.500000\n",
              "max      46799.000000\n",
              "Name: text_length, dtype: float64"
            ],
            "text/html": [
              "<div>\n",
              "<style scoped>\n",
              "    .dataframe tbody tr th:only-of-type {\n",
              "        vertical-align: middle;\n",
              "    }\n",
              "\n",
              "    .dataframe tbody tr th {\n",
              "        vertical-align: top;\n",
              "    }\n",
              "\n",
              "    .dataframe thead th {\n",
              "        text-align: right;\n",
              "    }\n",
              "</style>\n",
              "<table border=\"1\" class=\"dataframe\">\n",
              "  <thead>\n",
              "    <tr style=\"text-align: right;\">\n",
              "      <th></th>\n",
              "      <th>text_length</th>\n",
              "    </tr>\n",
              "  </thead>\n",
              "  <tbody>\n",
              "    <tr>\n",
              "      <th>count</th>\n",
              "      <td>11919.000000</td>\n",
              "    </tr>\n",
              "    <tr>\n",
              "      <th>mean</th>\n",
              "      <td>1950.172246</td>\n",
              "    </tr>\n",
              "    <tr>\n",
              "      <th>std</th>\n",
              "      <td>2430.967465</td>\n",
              "    </tr>\n",
              "    <tr>\n",
              "      <th>min</th>\n",
              "      <td>145.000000</td>\n",
              "    </tr>\n",
              "    <tr>\n",
              "      <th>25%</th>\n",
              "      <td>749.000000</td>\n",
              "    </tr>\n",
              "    <tr>\n",
              "      <th>50%</th>\n",
              "      <td>1157.000000</td>\n",
              "    </tr>\n",
              "    <tr>\n",
              "      <th>75%</th>\n",
              "      <td>2072.500000</td>\n",
              "    </tr>\n",
              "    <tr>\n",
              "      <th>max</th>\n",
              "      <td>46799.000000</td>\n",
              "    </tr>\n",
              "  </tbody>\n",
              "</table>\n",
              "</div><br><label><b>dtype:</b> float64</label>"
            ]
          },
          "metadata": {},
          "execution_count": 13
        }
      ],
      "source": [
        "df_train['text_length']=df_train['text'].apply(len)\n",
        "df_train['text_length'].describe()"
      ]
    },
    {
      "cell_type": "code",
      "execution_count": 14,
      "metadata": {
        "colab": {
          "base_uri": "https://localhost:8080/",
          "height": 564
        },
        "id": "R-1Tt6Rs7BVB",
        "outputId": "e84c4047-b70a-4655-c1e9-15dc6727dcaa"
      },
      "outputs": [
        {
          "output_type": "display_data",
          "data": {
            "text/plain": [
              "<Figure size 1000x600 with 1 Axes>"
            ],
            "image/png": "[encoded data removed]"
          },
          "metadata": {}
        }
      ],
      "source": [
        "plt.figure(figsize=(10, 6))\n",
        "sns.histplot(df_train['text_length'], bins=50, kde=True)\n",
        "plt.title('Distribution of Text Lengths')\n",
        "plt.xlabel('Text Length')\n",
        "plt.ylabel('Frequency')\n",
        "plt.grid(True)\n",
        "plt.show()"
      ]
    },
    {
      "cell_type": "code",
      "execution_count": 15,
      "metadata": {
        "colab": {
          "base_uri": "https://localhost:8080/",
          "height": 551
        },
        "id": "1ShyofmA84gU",
        "outputId": "7127d277-b852-4e53-cd6d-764da616fe51"
      },
      "outputs": [
        {
          "output_type": "execute_result",
          "data": {
            "text/plain": [
              "          category  median_text_length  average_text_length\n",
              "0         cemiyyet              1130.0          2187.658349\n",
              "1   cinemastercard              1301.0          1424.917647\n",
              "2            digar              1837.5          2184.981735\n",
              "3            dunya               847.0          1097.746732\n",
              "4           hadise               823.5          1032.601942\n",
              "5            idman               947.0          2706.155512\n",
              "6              ikt              1067.0          1355.961538\n",
              "7     iqtisadiyyat              1377.0          2195.604993\n",
              "8         kriminal              1158.0          1634.968861\n",
              "9          maraqli              1062.0          1404.906077\n",
              "10      medeniyyet              1418.0          2861.298651\n",
              "11        musahibe              5341.0          6647.983333\n",
              "12            ordu              1035.0          1612.214403\n",
              "13     shou-biznes               773.0           995.906907\n",
              "14         siyaset              1334.0          2413.928049\n",
              "15          turizm              1056.0          1508.892473"
            ],
            "text/html": [
              "\n",
              "  <div id=\"df-1eeb6970-2d2b-4199-8834-7340a95d33df\" class=\"colab-df-container\">\n",
              "    <div>\n",
              "<style scoped>\n",
              "    .dataframe tbody tr th:only-of-type {\n",
              "        vertical-align: middle;\n",
              "    }\n",
              "\n",
              "    .dataframe tbody tr th {\n",
              "        vertical-align: top;\n",
              "    }\n",
              "\n",
              "    .dataframe thead th {\n",
              "        text-align: right;\n",
              "    }\n",
              "</style>\n",
              "<table border=\"1\" class=\"dataframe\">\n",
              "  <thead>\n",
              "    <tr style=\"text-align: right;\">\n",
              "      <th></th>\n",
              "      <th>category</th>\n",
              "      <th>median_text_length</th>\n",
              "      <th>average_text_length</th>\n",
              "    </tr>\n",
              "  </thead>\n",
              "  <tbody>\n",
              "    <tr>\n",
              "      <th>0</th>\n",
              "      <td>cemiyyet</td>\n",
              "      <td>1130.0</td>\n",
              "      <td>2187.658349</td>\n",
              "    </tr>\n",
              "    <tr>\n",
              "      <th>1</th>\n",
              "      <td>cinemastercard</td>\n",
              "      <td>1301.0</td>\n",
              "      <td>1424.917647</td>\n",
              "    </tr>\n",
              "    <tr>\n",
              "      <th>2</th>\n",
              "      <td>digar</td>\n",
              "      <td>1837.5</td>\n",
              "      <td>2184.981735</td>\n",
              "    </tr>\n",
              "    <tr>\n",
              "      <th>3</th>\n",
              "      <td>dunya</td>\n",
              "      <td>847.0</td>\n",
              "      <td>1097.746732</td>\n",
              "    </tr>\n",
              "    <tr>\n",
              "      <th>4</th>\n",
              "      <td>hadise</td>\n",
              "      <td>823.5</td>\n",
              "      <td>1032.601942</td>\n",
              "    </tr>\n",
              "    <tr>\n",
              "      <th>5</th>\n",
              "      <td>idman</td>\n",
              "      <td>947.0</td>\n",
              "      <td>2706.155512</td>\n",
              "    </tr>\n",
              "    <tr>\n",
              "      <th>6</th>\n",
              "      <td>ikt</td>\n",
              "      <td>1067.0</td>\n",
              "      <td>1355.961538</td>\n",
              "    </tr>\n",
              "    <tr>\n",
              "      <th>7</th>\n",
              "      <td>iqtisadiyyat</td>\n",
              "      <td>1377.0</td>\n",
              "      <td>2195.604993</td>\n",
              "    </tr>\n",
              "    <tr>\n",
              "      <th>8</th>\n",
              "      <td>kriminal</td>\n",
              "      <td>1158.0</td>\n",
              "      <td>1634.968861</td>\n",
              "    </tr>\n",
              "    <tr>\n",
              "      <th>9</th>\n",
              "      <td>maraqli</td>\n",
              "      <td>1062.0</td>\n",
              "      <td>1404.906077</td>\n",
              "    </tr>\n",
              "    <tr>\n",
              "      <th>10</th>\n",
              "      <td>medeniyyet</td>\n",
              "      <td>1418.0</td>\n",
              "      <td>2861.298651</td>\n",
              "    </tr>\n",
              "    <tr>\n",
              "      <th>11</th>\n",
              "      <td>musahibe</td>\n",
              "      <td>5341.0</td>\n",
              "      <td>6647.983333</td>\n",
              "    </tr>\n",
              "    <tr>\n",
              "      <th>12</th>\n",
              "      <td>ordu</td>\n",
              "      <td>1035.0</td>\n",
              "      <td>1612.214403</td>\n",
              "    </tr>\n",
              "    <tr>\n",
              "      <th>13</th>\n",
              "      <td>shou-biznes</td>\n",
              "      <td>773.0</td>\n",
              "      <td>995.906907</td>\n",
              "    </tr>\n",
              "    <tr>\n",
              "      <th>14</th>\n",
              "      <td>siyaset</td>\n",
              "      <td>1334.0</td>\n",
              "      <td>2413.928049</td>\n",
              "    </tr>\n",
              "    <tr>\n",
              "      <th>15</th>\n",
              "      <td>turizm</td>\n",
              "      <td>1056.0</td>\n",
              "      <td>1508.892473</td>\n",
              "    </tr>\n",
              "  </tbody>\n",
              "</table>\n",
              "</div>\n",
              "    <div class=\"colab-df-buttons\">\n",
              "\n",
              "  <div class=\"colab-df-container\">\n",
              "    <button class=\"colab-df-convert\" onclick=\"convertToInteractive('df-1eeb6970-2d2b-4199-8834-7340a95d33df')\"\n",
              "            title=\"Convert this dataframe to an interactive table.\"\n",
              "            style=\"display:none;\">\n",
              "\n",
              "  <svg xmlns=\"http://www.w3.org/2000/svg\" height=\"24px\" viewBox=\"0 -960 960 960\">\n",
              "    <path d=\"M120-120v-720h720v720H120Zm60-500h600v-160H180v160Zm220 220h160v-160H400v160Zm0 220h160v-160H400v160ZM180-400h160v-160H180v160Zm440 0h160v-160H620v160ZM180-180h160v-160H180v160Zm440 0h160v-160H620v160Z\"/>\n",
              "  </svg>\n",
              "    </button>\n",
              "\n",
              "  <style>\n",
              "    .colab-df-container {\n",
              "      display:flex;\n",
              "      gap: 12px;\n",
              "    }\n",
              "\n",
              "    .colab-df-convert {\n",
              "      background-color: #E8F0FE;\n",
              "      border: none;\n",
              "      border-radius: 50%;\n",
              "      cursor: pointer;\n",
              "      display: none;\n",
              "      fill: #1967D2;\n",
              "      height: 32px;\n",
              "      padding: 0 0 0 0;\n",
              "      width: 32px;\n",
              "    }\n",
              "\n",
              "    .colab-df-convert:hover {\n",
              "      background-color: #E2EBFA;\n",
              "      box-shadow: 0px 1px 2px rgba(60, 64, 67, 0.3), 0px 1px 3px 1px rgba(60, 64, 67, 0.15);\n",
              "      fill: #174EA6;\n",
              "    }\n",
              "\n",
              "    .colab-df-buttons div {\n",
              "      margin-bottom: 4px;\n",
              "    }\n",
              "\n",
              "    [theme=dark] .colab-df-convert {\n",
              "      background-color: #3B4455;\n",
              "      fill: #D2E3FC;\n",
              "    }\n",
              "\n",
              "    [theme=dark] .colab-df-convert:hover {\n",
              "      background-color: #434B5C;\n",
              "      box-shadow: 0px 1px 3px 1px rgba(0, 0, 0, 0.15);\n",
              "      filter: drop-shadow(0px 1px 2px rgba(0, 0, 0, 0.3));\n",
              "      fill: #FFFFFF;\n",
              "    }\n",
              "  </style>\n",
              "\n",
              "    <script>\n",
              "      const buttonEl =\n",
              "        document.querySelector('#df-1eeb6970-2d2b-4199-8834-7340a95d33df button.colab-df-convert');\n",
              "      buttonEl.style.display =\n",
              "        google.colab.kernel.accessAllowed ? 'block' : 'none';\n",
              "\n",
              "      async function convertToInteractive(key) {\n",
              "        const element = document.querySelector('#df-1eeb6970-2d2b-4199-8834-7340a95d33df');\n",
              "        const dataTable =\n",
              "          await google.colab.kernel.invokeFunction('convertToInteractive',\n",
              "                                                    [key], {});\n",
              "        if (!dataTable) return;\n",
              "\n",
              "        const docLinkHtml = 'Like what you see? Visit the ' +\n",
              "          '<a target=\"_blank\" href=https://colab.research.google.com/notebooks/data_table.ipynb>data table notebook</a>'\n",
              "          + ' to learn more about interactive tables.';\n",
              "        element.innerHTML = '';\n",
              "        dataTable['output_type'] = 'display_data';\n",
              "        await google.colab.output.renderOutput(dataTable, element);\n",
              "        const docLink = document.createElement('div');\n",
              "        docLink.innerHTML = docLinkHtml;\n",
              "        element.appendChild(docLink);\n",
              "      }\n",
              "    </script>\n",
              "  </div>\n",
              "\n",
              "\n",
              "<div id=\"df-2a925624-ca13-4762-8511-c8d131811052\">\n",
              "  <button class=\"colab-df-quickchart\" onclick=\"quickchart('df-2a925624-ca13-4762-8511-c8d131811052')\"\n",
              "            title=\"Suggest charts\"\n",
              "            style=\"display:none;\">\n",
              "\n",
              "<svg xmlns=\"http://www.w3.org/2000/svg\" height=\"24px\"viewBox=\"0 0 24 24\"\n",
              "     width=\"24px\">\n",
              "    <g>\n",
              "        <path d=\"M19 3H5c-1.1 0-2 .9-2 2v14c0 1.1.9 2 2 2h14c1.1 0 2-.9 2-2V5c0-1.1-.9-2-2-2zM9 17H7v-7h2v7zm4 0h-2V7h2v10zm4 0h-2v-4h2v4z\"/>\n",
              "    </g>\n",
              "</svg>\n",
              "  </button>\n",
              "\n",
              "<style>\n",
              "  .colab-df-quickchart {\n",
              "      --bg-color: #E8F0FE;\n",
              "      --fill-color: #1967D2;\n",
              "      --hover-bg-color: #E2EBFA;\n",
              "      --hover-fill-color: #174EA6;\n",
              "      --disabled-fill-color: #AAA;\n",
              "      --disabled-bg-color: #DDD;\n",
              "  }\n",
              "\n",
              "  [theme=dark] .colab-df-quickchart {\n",
              "      --bg-color: #3B4455;\n",
              "      --fill-color: #D2E3FC;\n",
              "      --hover-bg-color: #434B5C;\n",
              "      --hover-fill-color: #FFFFFF;\n",
              "      --disabled-bg-color: #3B4455;\n",
              "      --disabled-fill-color: #666;\n",
              "  }\n",
              "\n",
              "  .colab-df-quickchart {\n",
              "    background-color: var(--bg-color);\n",
              "    border: none;\n",
              "    border-radius: 50%;\n",
              "    cursor: pointer;\n",
              "    display: none;\n",
              "    fill: var(--fill-color);\n",
              "    height: 32px;\n",
              "    padding: 0;\n",
              "    width: 32px;\n",
              "  }\n",
              "\n",
              "  .colab-df-quickchart:hover {\n",
              "    background-color: var(--hover-bg-color);\n",
              "    box-shadow: 0 1px 2px rgba(60, 64, 67, 0.3), 0 1px 3px 1px rgba(60, 64, 67, 0.15);\n",
              "    fill: var(--button-hover-fill-color);\n",
              "  }\n",
              "\n",
              "  .colab-df-quickchart-complete:disabled,\n",
              "  .colab-df-quickchart-complete:disabled:hover {\n",
              "    background-color: var(--disabled-bg-color);\n",
              "    fill: var(--disabled-fill-color);\n",
              "    box-shadow: none;\n",
              "  }\n",
              "\n",
              "  .colab-df-spinner {\n",
              "    border: 2px solid var(--fill-color);\n",
              "    border-color: transparent;\n",
              "    border-bottom-color: var(--fill-color);\n",
              "    animation:\n",
              "      spin 1s steps(1) infinite;\n",
              "  }\n",
              "\n",
              "  @keyframes spin {\n",
              "    0% {\n",
              "      border-color: transparent;\n",
              "      border-bottom-color: var(--fill-color);\n",
              "      border-left-color: var(--fill-color);\n",
              "    }\n",
              "    20% {\n",
              "      border-color: transparent;\n",
              "      border-left-color: var(--fill-color);\n",
              "      border-top-color: var(--fill-color);\n",
              "    }\n",
              "    30% {\n",
              "      border-color: transparent;\n",
              "      border-left-color: var(--fill-color);\n",
              "      border-top-color: var(--fill-color);\n",
              "      border-right-color: var(--fill-color);\n",
              "    }\n",
              "    40% {\n",
              "      border-color: transparent;\n",
              "      border-right-color: var(--fill-color);\n",
              "      border-top-color: var(--fill-color);\n",
              "    }\n",
              "    60% {\n",
              "      border-color: transparent;\n",
              "      border-right-color: var(--fill-color);\n",
              "    }\n",
              "    80% {\n",
              "      border-color: transparent;\n",
              "      border-right-color: var(--fill-color);\n",
              "      border-bottom-color: var(--fill-color);\n",
              "    }\n",
              "    90% {\n",
              "      border-color: transparent;\n",
              "      border-bottom-color: var(--fill-color);\n",
              "    }\n",
              "  }\n",
              "</style>\n",
              "\n",
              "  <script>\n",
              "    async function quickchart(key) {\n",
              "      const quickchartButtonEl =\n",
              "        document.querySelector('#' + key + ' button');\n",
              "      quickchartButtonEl.disabled = true;  // To prevent multiple clicks.\n",
              "      quickchartButtonEl.classList.add('colab-df-spinner');\n",
              "      try {\n",
              "        const charts = await google.colab.kernel.invokeFunction(\n",
              "            'suggestCharts', [key], {});\n",
              "      } catch (error) {\n",
              "        console.error('Error during call to suggestCharts:', error);\n",
              "      }\n",
              "      quickchartButtonEl.classList.remove('colab-df-spinner');\n",
              "      quickchartButtonEl.classList.add('colab-df-quickchart-complete');\n",
              "    }\n",
              "    (() => {\n",
              "      let quickchartButtonEl =\n",
              "        document.querySelector('#df-2a925624-ca13-4762-8511-c8d131811052 button');\n",
              "      quickchartButtonEl.style.display =\n",
              "        google.colab.kernel.accessAllowed ? 'block' : 'none';\n",
              "    })();\n",
              "  </script>\n",
              "</div>\n",
              "\n",
              "  <div id=\"id_da5752af-c8bf-4306-85f5-e26a7c046016\">\n",
              "    <style>\n",
              "      .colab-df-generate {\n",
              "        background-color: #E8F0FE;\n",
              "        border: none;\n",
              "        border-radius: 50%;\n",
              "        cursor: pointer;\n",
              "        display: none;\n",
              "        fill: #1967D2;\n",
              "        height: 32px;\n",
              "        padding: 0 0 0 0;\n",
              "        width: 32px;\n",
              "      }\n",
              "\n",
              "      .colab-df-generate:hover {\n",
              "        background-color: #E2EBFA;\n",
              "        box-shadow: 0px 1px 2px rgba(60, 64, 67, 0.3), 0px 1px 3px 1px rgba(60, 64, 67, 0.15);\n",
              "        fill: #174EA6;\n",
              "      }\n",
              "\n",
              "      [theme=dark] .colab-df-generate {\n",
              "        background-color: #3B4455;\n",
              "        fill: #D2E3FC;\n",
              "      }\n",
              "\n",
              "      [theme=dark] .colab-df-generate:hover {\n",
              "        background-color: #434B5C;\n",
              "        box-shadow: 0px 1px 3px 1px rgba(0, 0, 0, 0.15);\n",
              "        filter: drop-shadow(0px 1px 2px rgba(0, 0, 0, 0.3));\n",
              "        fill: #FFFFFF;\n",
              "      }\n",
              "    </style>\n",
              "    <button class=\"colab-df-generate\" onclick=\"generateWithVariable('merged_df')\"\n",
              "            title=\"Generate code using this dataframe.\"\n",
              "            style=\"display:none;\">\n",
              "\n",
              "  <svg xmlns=\"http://www.w3.org/2000/svg\" height=\"24px\"viewBox=\"0 0 24 24\"\n",
              "       width=\"24px\">\n",
              "    <path d=\"M7,19H8.4L18.45,9,17,7.55,7,17.6ZM5,21V16.75L18.45,3.32a2,2,0,0,1,2.83,0l1.4,1.43a1.91,1.91,0,0,1,.58,1.4,1.91,1.91,0,0,1-.58,1.4L9.25,21ZM18.45,9,17,7.55Zm-12,3A5.31,5.31,0,0,0,4.9,8.1,5.31,5.31,0,0,0,1,6.5,5.31,5.31,0,0,0,4.9,4.9,5.31,5.31,0,0,0,6.5,1,5.31,5.31,0,0,0,8.1,4.9,5.31,5.31,0,0,0,12,6.5,5.46,5.46,0,0,0,6.5,12Z\"/>\n",
              "  </svg>\n",
              "    </button>\n",
              "    <script>\n",
              "      (() => {\n",
              "      const buttonEl =\n",
              "        document.querySelector('#id_da5752af-c8bf-4306-85f5-e26a7c046016 button.colab-df-generate');\n",
              "      buttonEl.style.display =\n",
              "        google.colab.kernel.accessAllowed ? 'block' : 'none';\n",
              "\n",
              "      buttonEl.onclick = () => {\n",
              "        google.colab.notebook.generateWithVariable('merged_df');\n",
              "      }\n",
              "      })();\n",
              "    </script>\n",
              "  </div>\n",
              "\n",
              "    </div>\n",
              "  </div>\n"
            ],
            "application/vnd.google.colaboratory.intrinsic+json": {
              "type": "dataframe",
              "variable_name": "merged_df",
              "summary": "{\n  \"name\": \"merged_df\",\n  \"rows\": 16,\n  \"fields\": [\n    {\n      \"column\": \"category\",\n      \"properties\": {\n        \"dtype\": \"string\",\n        \"num_unique_values\": 16,\n        \"samples\": [\n          \"cemiyyet\",\n          \"cinemastercard\",\n          \"idman\"\n        ],\n        \"semantic_type\": \"\",\n        \"description\": \"\"\n      }\n    },\n    {\n      \"column\": \"median_text_length\",\n      \"properties\": {\n        \"dtype\": \"number\",\n        \"std\": 1082.6461083074807,\n        \"min\": 773.0,\n        \"max\": 5341.0,\n        \"num_unique_values\": 16,\n        \"samples\": [\n          1130.0,\n          1301.0,\n          947.0\n        ],\n        \"semantic_type\": \"\",\n        \"description\": \"\"\n      }\n    },\n    {\n      \"column\": \"average_text_length\",\n      \"properties\": {\n        \"dtype\": \"number\",\n        \"std\": 1351.6833833787935,\n        \"min\": 995.9069069069069,\n        \"max\": 6647.983333333334,\n        \"num_unique_values\": 16,\n        \"samples\": [\n          2187.658349328215,\n          1424.9176470588236,\n          2706.1555118110236\n        ],\n        \"semantic_type\": \"\",\n        \"description\": \"\"\n      }\n    }\n  ]\n}"
            }
          },
          "metadata": {},
          "execution_count": 15
        }
      ],
      "source": [
        "grouped = df_train.groupby('category')['text_length']\n",
        "median_length = grouped.median().reset_index(name='median_text_length')\n",
        "average_length = grouped.mean().reset_index(name='average_text_length')\n",
        "merged_df = pd.merge(median_length, average_length, on='category')\n",
        "merged_df"
      ]
    },
    {
      "cell_type": "code",
      "execution_count": 16,
      "metadata": {
        "colab": {
          "base_uri": "https://localhost:8080/",
          "height": 658
        },
        "id": "x-MIlP6N9etb",
        "outputId": "ee5bd746-b6ed-4844-fff7-77d842377e86"
      },
      "outputs": [
        {
          "output_type": "display_data",
          "data": {
            "text/plain": [
              "<Figure size 1000x600 with 1 Axes>"
            ],
            "image/png": "[encoded data removed]"
          },
          "metadata": {}
        }
      ],
      "source": [
        "plt.figure(figsize=(10, 6))\n",
        "sns.barplot(x='category', y='text_length', data=df_train)\n",
        "plt.xticks(rotation=90)\n",
        "plt.title('Average Text Length by Category')\n",
        "plt.xlabel('Category')\n",
        "plt.ylabel('Average Text Length')\n",
        "plt.show()"
      ]
    },
    {
      "cell_type": "markdown",
      "metadata": {
        "id": "38KeGjw5-8BA"
      },
      "source": [
        "'musahibe' contain more text because they consist of a few questions and answers. In other news categories (\"show business\"), the information can be shorter and more specific."
      ]
    },
    {
      "cell_type": "code",
      "execution_count": 17,
      "metadata": {
        "id": "oKqOx9SK_Bv_"
      },
      "outputs": [],
      "source": [
        "df_train['text']=df_train['text'].apply(word_tokenize)\n"
      ]
    },
    {
      "cell_type": "markdown",
      "source": [
        "# Feature Engineering"
      ],
      "metadata": {
        "id": "wl9GuqNg6FjW"
      }
    },
    {
      "cell_type": "code",
      "execution_count": 92,
      "metadata": {
        "colab": {
          "base_uri": "https://localhost:8080/",
          "height": 424
        },
        "id": "4qQaK9VrB0Mz",
        "outputId": "0c7224e6-5309-4cd0-fa3d-498b043ad91c"
      },
      "outputs": [
        {
          "output_type": "execute_result",
          "data": {
            "text/plain": [
              "                                                    text  category  \\\n",
              "0      ukrayna dalanda qərblə rusiya sövdələşmə həvəs...        14   \n",
              "1      aktyor nurlan rüstəmov bizə lal kar deyilməsi ...        10   \n",
              "2      azərbaycana turist axını rusiyalı səyyahların ...        15   \n",
              "3      heydər əliyev sarayına yeni direktor təyin olu...         0   \n",
              "4      türkiyəli mütəxəssisdən açıqlama həddindən gər...         3   \n",
              "...                                                  ...       ...   \n",
              "11914  azərbaycanın beynəlxalq mövqeyi necə gücləndi ...        14   \n",
              "11915  i ran suriya üzrə xüsusi nümayəndə təyin edib ...         3   \n",
              "11916  donald tramp məşhur aktyoru xüsusi səfir təyin...         3   \n",
              "11917  yazıçı vaqif əlixanlı vəfat edib yazıçı dramat...        10   \n",
              "11918  azal bakıdan düşənbə şəhərinə reys açır azal q...        15   \n",
              "\n",
              "       text_length  \n",
              "0             2630  \n",
              "1             6860  \n",
              "2              508  \n",
              "3              820  \n",
              "4             1611  \n",
              "...            ...  \n",
              "11914         2426  \n",
              "11915          292  \n",
              "11916          533  \n",
              "11917         1327  \n",
              "11918          723  \n",
              "\n",
              "[11919 rows x 3 columns]"
            ],
            "text/html": [
              "\n",
              "  <div id=\"df-15c75baa-8223-4661-8144-5bf2944cc3f3\" class=\"colab-df-container\">\n",
              "    <div>\n",
              "<style scoped>\n",
              "    .dataframe tbody tr th:only-of-type {\n",
              "        vertical-align: middle;\n",
              "    }\n",
              "\n",
              "    .dataframe tbody tr th {\n",
              "        vertical-align: top;\n",
              "    }\n",
              "\n",
              "    .dataframe thead th {\n",
              "        text-align: right;\n",
              "    }\n",
              "</style>\n",
              "<table border=\"1\" class=\"dataframe\">\n",
              "  <thead>\n",
              "    <tr style=\"text-align: right;\">\n",
              "      <th></th>\n",
              "      <th>text</th>\n",
              "      <th>category</th>\n",
              "      <th>text_length</th>\n",
              "    </tr>\n",
              "  </thead>\n",
              "  <tbody>\n",
              "    <tr>\n",
              "      <th>0</th>\n",
              "      <td>ukrayna dalanda qərblə rusiya sövdələşmə həvəs...</td>\n",
              "      <td>14</td>\n",
              "      <td>2630</td>\n",
              "    </tr>\n",
              "    <tr>\n",
              "      <th>1</th>\n",
              "      <td>aktyor nurlan rüstəmov bizə lal kar deyilməsi ...</td>\n",
              "      <td>10</td>\n",
              "      <td>6860</td>\n",
              "    </tr>\n",
              "    <tr>\n",
              "      <th>2</th>\n",
              "      <td>azərbaycana turist axını rusiyalı səyyahların ...</td>\n",
              "      <td>15</td>\n",
              "      <td>508</td>\n",
              "    </tr>\n",
              "    <tr>\n",
              "      <th>3</th>\n",
              "      <td>heydər əliyev sarayına yeni direktor təyin olu...</td>\n",
              "      <td>0</td>\n",
              "      <td>820</td>\n",
              "    </tr>\n",
              "    <tr>\n",
              "      <th>4</th>\n",
              "      <td>türkiyəli mütəxəssisdən açıqlama həddindən gər...</td>\n",
              "      <td>3</td>\n",
              "      <td>1611</td>\n",
              "    </tr>\n",
              "    <tr>\n",
              "      <th>...</th>\n",
              "      <td>...</td>\n",
              "      <td>...</td>\n",
              "      <td>...</td>\n",
              "    </tr>\n",
              "    <tr>\n",
              "      <th>11914</th>\n",
              "      <td>azərbaycanın beynəlxalq mövqeyi necə gücləndi ...</td>\n",
              "      <td>14</td>\n",
              "      <td>2426</td>\n",
              "    </tr>\n",
              "    <tr>\n",
              "      <th>11915</th>\n",
              "      <td>i ran suriya üzrə xüsusi nümayəndə təyin edib ...</td>\n",
              "      <td>3</td>\n",
              "      <td>292</td>\n",
              "    </tr>\n",
              "    <tr>\n",
              "      <th>11916</th>\n",
              "      <td>donald tramp məşhur aktyoru xüsusi səfir təyin...</td>\n",
              "      <td>3</td>\n",
              "      <td>533</td>\n",
              "    </tr>\n",
              "    <tr>\n",
              "      <th>11917</th>\n",
              "      <td>yazıçı vaqif əlixanlı vəfat edib yazıçı dramat...</td>\n",
              "      <td>10</td>\n",
              "      <td>1327</td>\n",
              "    </tr>\n",
              "    <tr>\n",
              "      <th>11918</th>\n",
              "      <td>azal bakıdan düşənbə şəhərinə reys açır azal q...</td>\n",
              "      <td>15</td>\n",
              "      <td>723</td>\n",
              "    </tr>\n",
              "  </tbody>\n",
              "</table>\n",
              "<p>11919 rows × 3 columns</p>\n",
              "</div>\n",
              "    <div class=\"colab-df-buttons\">\n",
              "\n",
              "  <div class=\"colab-df-container\">\n",
              "    <button class=\"colab-df-convert\" onclick=\"convertToInteractive('df-15c75baa-8223-4661-8144-5bf2944cc3f3')\"\n",
              "            title=\"Convert this dataframe to an interactive table.\"\n",
              "            style=\"display:none;\">\n",
              "\n",
              "  <svg xmlns=\"http://www.w3.org/2000/svg\" height=\"24px\" viewBox=\"0 -960 960 960\">\n",
              "    <path d=\"M120-120v-720h720v720H120Zm60-500h600v-160H180v160Zm220 220h160v-160H400v160Zm0 220h160v-160H400v160ZM180-400h160v-160H180v160Zm440 0h160v-160H620v160ZM180-180h160v-160H180v160Zm440 0h160v-160H620v160Z\"/>\n",
              "  </svg>\n",
              "    </button>\n",
              "\n",
              "  <style>\n",
              "    .colab-df-container {\n",
              "      display:flex;\n",
              "      gap: 12px;\n",
              "    }\n",
              "\n",
              "    .colab-df-convert {\n",
              "      background-color: #E8F0FE;\n",
              "      border: none;\n",
              "      border-radius: 50%;\n",
              "      cursor: pointer;\n",
              "      display: none;\n",
              "      fill: #1967D2;\n",
              "      height: 32px;\n",
              "      padding: 0 0 0 0;\n",
              "      width: 32px;\n",
              "    }\n",
              "\n",
              "    .colab-df-convert:hover {\n",
              "      background-color: #E2EBFA;\n",
              "      box-shadow: 0px 1px 2px rgba(60, 64, 67, 0.3), 0px 1px 3px 1px rgba(60, 64, 67, 0.15);\n",
              "      fill: #174EA6;\n",
              "    }\n",
              "\n",
              "    .colab-df-buttons div {\n",
              "      margin-bottom: 4px;\n",
              "    }\n",
              "\n",
              "    [theme=dark] .colab-df-convert {\n",
              "      background-color: #3B4455;\n",
              "      fill: #D2E3FC;\n",
              "    }\n",
              "\n",
              "    [theme=dark] .colab-df-convert:hover {\n",
              "      background-color: #434B5C;\n",
              "      box-shadow: 0px 1px 3px 1px rgba(0, 0, 0, 0.15);\n",
              "      filter: drop-shadow(0px 1px 2px rgba(0, 0, 0, 0.3));\n",
              "      fill: #FFFFFF;\n",
              "    }\n",
              "  </style>\n",
              "\n",
              "    <script>\n",
              "      const buttonEl =\n",
              "        document.querySelector('#df-15c75baa-8223-4661-8144-5bf2944cc3f3 button.colab-df-convert');\n",
              "      buttonEl.style.display =\n",
              "        google.colab.kernel.accessAllowed ? 'block' : 'none';\n",
              "\n",
              "      async function convertToInteractive(key) {\n",
              "        const element = document.querySelector('#df-15c75baa-8223-4661-8144-5bf2944cc3f3');\n",
              "        const dataTable =\n",
              "          await google.colab.kernel.invokeFunction('convertToInteractive',\n",
              "                                                    [key], {});\n",
              "        if (!dataTable) return;\n",
              "\n",
              "        const docLinkHtml = 'Like what you see? Visit the ' +\n",
              "          '<a target=\"_blank\" href=https://colab.research.google.com/notebooks/data_table.ipynb>data table notebook</a>'\n",
              "          + ' to learn more about interactive tables.';\n",
              "        element.innerHTML = '';\n",
              "        dataTable['output_type'] = 'display_data';\n",
              "        await google.colab.output.renderOutput(dataTable, element);\n",
              "        const docLink = document.createElement('div');\n",
              "        docLink.innerHTML = docLinkHtml;\n",
              "        element.appendChild(docLink);\n",
              "      }\n",
              "    </script>\n",
              "  </div>\n",
              "\n",
              "\n",
              "<div id=\"df-94aa1f8e-2ff2-4d81-84bc-da7e2f475b6b\">\n",
              "  <button class=\"colab-df-quickchart\" onclick=\"quickchart('df-94aa1f8e-2ff2-4d81-84bc-da7e2f475b6b')\"\n",
              "            title=\"Suggest charts\"\n",
              "            style=\"display:none;\">\n",
              "\n",
              "<svg xmlns=\"http://www.w3.org/2000/svg\" height=\"24px\"viewBox=\"0 0 24 24\"\n",
              "     width=\"24px\">\n",
              "    <g>\n",
              "        <path d=\"M19 3H5c-1.1 0-2 .9-2 2v14c0 1.1.9 2 2 2h14c1.1 0 2-.9 2-2V5c0-1.1-.9-2-2-2zM9 17H7v-7h2v7zm4 0h-2V7h2v10zm4 0h-2v-4h2v4z\"/>\n",
              "    </g>\n",
              "</svg>\n",
              "  </button>\n",
              "\n",
              "<style>\n",
              "  .colab-df-quickchart {\n",
              "      --bg-color: #E8F0FE;\n",
              "      --fill-color: #1967D2;\n",
              "      --hover-bg-color: #E2EBFA;\n",
              "      --hover-fill-color: #174EA6;\n",
              "      --disabled-fill-color: #AAA;\n",
              "      --disabled-bg-color: #DDD;\n",
              "  }\n",
              "\n",
              "  [theme=dark] .colab-df-quickchart {\n",
              "      --bg-color: #3B4455;\n",
              "      --fill-color: #D2E3FC;\n",
              "      --hover-bg-color: #434B5C;\n",
              "      --hover-fill-color: #FFFFFF;\n",
              "      --disabled-bg-color: #3B4455;\n",
              "      --disabled-fill-color: #666;\n",
              "  }\n",
              "\n",
              "  .colab-df-quickchart {\n",
              "    background-color: var(--bg-color);\n",
              "    border: none;\n",
              "    border-radius: 50%;\n",
              "    cursor: pointer;\n",
              "    display: none;\n",
              "    fill: var(--fill-color);\n",
              "    height: 32px;\n",
              "    padding: 0;\n",
              "    width: 32px;\n",
              "  }\n",
              "\n",
              "  .colab-df-quickchart:hover {\n",
              "    background-color: var(--hover-bg-color);\n",
              "    box-shadow: 0 1px 2px rgba(60, 64, 67, 0.3), 0 1px 3px 1px rgba(60, 64, 67, 0.15);\n",
              "    fill: var(--button-hover-fill-color);\n",
              "  }\n",
              "\n",
              "  .colab-df-quickchart-complete:disabled,\n",
              "  .colab-df-quickchart-complete:disabled:hover {\n",
              "    background-color: var(--disabled-bg-color);\n",
              "    fill: var(--disabled-fill-color);\n",
              "    box-shadow: none;\n",
              "  }\n",
              "\n",
              "  .colab-df-spinner {\n",
              "    border: 2px solid var(--fill-color);\n",
              "    border-color: transparent;\n",
              "    border-bottom-color: var(--fill-color);\n",
              "    animation:\n",
              "      spin 1s steps(1) infinite;\n",
              "  }\n",
              "\n",
              "  @keyframes spin {\n",
              "    0% {\n",
              "      border-color: transparent;\n",
              "      border-bottom-color: var(--fill-color);\n",
              "      border-left-color: var(--fill-color);\n",
              "    }\n",
              "    20% {\n",
              "      border-color: transparent;\n",
              "      border-left-color: var(--fill-color);\n",
              "      border-top-color: var(--fill-color);\n",
              "    }\n",
              "    30% {\n",
              "      border-color: transparent;\n",
              "      border-left-color: var(--fill-color);\n",
              "      border-top-color: var(--fill-color);\n",
              "      border-right-color: var(--fill-color);\n",
              "    }\n",
              "    40% {\n",
              "      border-color: transparent;\n",
              "      border-right-color: var(--fill-color);\n",
              "      border-top-color: var(--fill-color);\n",
              "    }\n",
              "    60% {\n",
              "      border-color: transparent;\n",
              "      border-right-color: var(--fill-color);\n",
              "    }\n",
              "    80% {\n",
              "      border-color: transparent;\n",
              "      border-right-color: var(--fill-color);\n",
              "      border-bottom-color: var(--fill-color);\n",
              "    }\n",
              "    90% {\n",
              "      border-color: transparent;\n",
              "      border-bottom-color: var(--fill-color);\n",
              "    }\n",
              "  }\n",
              "</style>\n",
              "\n",
              "  <script>\n",
              "    async function quickchart(key) {\n",
              "      const quickchartButtonEl =\n",
              "        document.querySelector('#' + key + ' button');\n",
              "      quickchartButtonEl.disabled = true;  // To prevent multiple clicks.\n",
              "      quickchartButtonEl.classList.add('colab-df-spinner');\n",
              "      try {\n",
              "        const charts = await google.colab.kernel.invokeFunction(\n",
              "            'suggestCharts', [key], {});\n",
              "      } catch (error) {\n",
              "        console.error('Error during call to suggestCharts:', error);\n",
              "      }\n",
              "      quickchartButtonEl.classList.remove('colab-df-spinner');\n",
              "      quickchartButtonEl.classList.add('colab-df-quickchart-complete');\n",
              "    }\n",
              "    (() => {\n",
              "      let quickchartButtonEl =\n",
              "        document.querySelector('#df-94aa1f8e-2ff2-4d81-84bc-da7e2f475b6b button');\n",
              "      quickchartButtonEl.style.display =\n",
              "        google.colab.kernel.accessAllowed ? 'block' : 'none';\n",
              "    })();\n",
              "  </script>\n",
              "</div>\n",
              "\n",
              "  <div id=\"id_fca9ef42-f1a4-44ed-b2f7-51800176b3b4\">\n",
              "    <style>\n",
              "      .colab-df-generate {\n",
              "        background-color: #E8F0FE;\n",
              "        border: none;\n",
              "        border-radius: 50%;\n",
              "        cursor: pointer;\n",
              "        display: none;\n",
              "        fill: #1967D2;\n",
              "        height: 32px;\n",
              "        padding: 0 0 0 0;\n",
              "        width: 32px;\n",
              "      }\n",
              "\n",
              "      .colab-df-generate:hover {\n",
              "        background-color: #E2EBFA;\n",
              "        box-shadow: 0px 1px 2px rgba(60, 64, 67, 0.3), 0px 1px 3px 1px rgba(60, 64, 67, 0.15);\n",
              "        fill: #174EA6;\n",
              "      }\n",
              "\n",
              "      [theme=dark] .colab-df-generate {\n",
              "        background-color: #3B4455;\n",
              "        fill: #D2E3FC;\n",
              "      }\n",
              "\n",
              "      [theme=dark] .colab-df-generate:hover {\n",
              "        background-color: #434B5C;\n",
              "        box-shadow: 0px 1px 3px 1px rgba(0, 0, 0, 0.15);\n",
              "        filter: drop-shadow(0px 1px 2px rgba(0, 0, 0, 0.3));\n",
              "        fill: #FFFFFF;\n",
              "      }\n",
              "    </style>\n",
              "    <button class=\"colab-df-generate\" onclick=\"generateWithVariable('df_train')\"\n",
              "            title=\"Generate code using this dataframe.\"\n",
              "            style=\"display:none;\">\n",
              "\n",
              "  <svg xmlns=\"http://www.w3.org/2000/svg\" height=\"24px\"viewBox=\"0 0 24 24\"\n",
              "       width=\"24px\">\n",
              "    <path d=\"M7,19H8.4L18.45,9,17,7.55,7,17.6ZM5,21V16.75L18.45,3.32a2,2,0,0,1,2.83,0l1.4,1.43a1.91,1.91,0,0,1,.58,1.4,1.91,1.91,0,0,1-.58,1.4L9.25,21ZM18.45,9,17,7.55Zm-12,3A5.31,5.31,0,0,0,4.9,8.1,5.31,5.31,0,0,0,1,6.5,5.31,5.31,0,0,0,4.9,4.9,5.31,5.31,0,0,0,6.5,1,5.31,5.31,0,0,0,8.1,4.9,5.31,5.31,0,0,0,12,6.5,5.46,5.46,0,0,0,6.5,12Z\"/>\n",
              "  </svg>\n",
              "    </button>\n",
              "    <script>\n",
              "      (() => {\n",
              "      const buttonEl =\n",
              "        document.querySelector('#id_fca9ef42-f1a4-44ed-b2f7-51800176b3b4 button.colab-df-generate');\n",
              "      buttonEl.style.display =\n",
              "        google.colab.kernel.accessAllowed ? 'block' : 'none';\n",
              "\n",
              "      buttonEl.onclick = () => {\n",
              "        google.colab.notebook.generateWithVariable('df_train');\n",
              "      }\n",
              "      })();\n",
              "    </script>\n",
              "  </div>\n",
              "\n",
              "    </div>\n",
              "  </div>\n"
            ],
            "application/vnd.google.colaboratory.intrinsic+json": {
              "type": "dataframe",
              "variable_name": "df_train",
              "summary": "{\n  \"name\": \"df_train\",\n  \"rows\": 11919,\n  \"fields\": [\n    {\n      \"column\": \"text\",\n      \"properties\": {\n        \"dtype\": \"string\",\n        \"num_unique_values\": 11319,\n        \"samples\": [\n          \"rusiya \\u00e7in avtomobil k\\u00f6rp\\u00fcs\\u00fc a\\u00e7\\u0131ld\\u0131 rusiyan\\u0131n blaqove\\u015f\\u015fensk \\u015f\\u0259h\\u0259rind\\u0259n \\u00e7inin heihe \\u015f\\u0259h\\u0259rin\\u0259 ged\\u0259n avtomobil k\\u00f6rp\\u00fcs\\u00fcnd\\u0259 y\\u00fck da\\u015f\\u0131malar\\u0131 ba\\u015flay\\u0131b i lk y\\u00fck ma\\u015f\\u0131nlar\\u0131 kani kurqan heihe ke\\u00e7id m\\u0259nt\\u0259q\\u0259si \\u00fcz\\u0259rind\\u0259n a\\u00e7\\u0131q k\\u00f6rp\\u00fcn\\u00fcn \\u00fcst\\u00fcnd\\u0259n ke\\u00e7ib mayel\\u0259\\u015fdirilmi\\u015f t\\u0259bii qazla i\\u015fl\\u0259y\\u0259n rusiya y\\u00fck ma\\u015f\\u0131n\\u0131 \\u00e7in\\u0259 yola d\\u00fc\\u015f\\u00fcb \\u00e7ind\\u0259n y\\u00fck ma\\u015f\\u0131n\\u0131 daxil olub rusiyaya avtomobil \\u015finl\\u0259ri elektrik avadanl\\u0131qlar\\u0131 komponentl\\u0259r da\\u015f\\u0131y\\u0131blar k\\u00f6rp\\u00fcn\\u00fcn tikintisinin d\\u0259y\\u0259ri milyard rubl t\\u0259\\u015fkil edib milyard\\u0131 rusiya \\u0259razisin\\u0259 yat\\u0131r\\u0131l\\u0131b \\u00fcmumi uzunlu\\u011fu kilometr\\u0259 yax\\u0131n k\\u00f6rp\\u00fcd\\u0259n g\\u00fcn y\\u00fck ma\\u015f\\u0131n\\u0131 avtobus minik avtomobili ke\\u00e7\\u0259 bil\\u0259c\\u0259k m\\u0259nb\\u0259 tass\",\n          \"nobel m\\u00fckafat\\u0131 laureat\\u0131 cop dan g\\u00f6zl\\u0259ntimiz t\\u0259hl\\u00fck\\u0259siz d\\u00fcnyaya sahib olmaqd\\u0131r i qliml\\u0259 ba\\u011fl\\u0131 ke\\u00e7iril\\u0259n sammitd\\u0259n g\\u00f6zl\\u0259ntimiz t\\u0259hl\\u00fck\\u0259siz d\\u00fcnyaya sahib olmaqd\\u0131r oxu bildirir bak\\u0131da ke\\u00e7iril\\u0259n bmt nin i qlim d\\u0259yi\\u015fikliyi \\u00fczr\\u0259 \\u00e7\\u0259r\\u00e7iv\\u0259 konvensiyas\\u0131n\\u0131n t\\u0259r\\u0259fl\\u0259ri konfrans\\u0131n\\u0131n sessiyas\\u0131na cop qat\\u0131lan banqlade\\u015f xalq respublikas\\u0131n\\u0131n m\\u00fcv\\u0259qq\\u0259ti h\\u00f6kum\\u0259tinin ba\\u015f m\\u00fc\\u015faviri nobel m\\u00fckafat\\u00e7\\u0131s\\u0131 unec rektor m\\u00fc\\u015faviri doktor m\\u0259h\\u0259mm\\u0259d yunus deyib ekoloji f\\u0259lak\\u0259td\\u0259n z\\u0259r\\u0259r g\\u00f6r\\u0259n insanlara yard\\u0131m edilm\\u0259si eyni zamanda f\\u0259lak\\u0259tl\\u0259rin qar\\u015f\\u0131s\\u0131n\\u0131n al\\u0131nmas\\u0131 yollar tap\\u0131lmas\\u0131nda davaml\\u0131 t\\u0259\\u015f\\u0259bb\\u00fcs g\\u00f6st\\u0259rm\\u0259yin vacib oldu\\u011funu d\\u00fc\\u015f\\u00fcn\\u00fcr\\u0259m dey\\u0259 nobel m\\u00fckafat\\u00e7\\u0131s\\u0131 \\u0259lav\\u0259 edib ayg\\u00fcn mirakif\",\n          \"cinemaplus q\\u0131zmar kino gec\\u0259si ke\\u00e7irildi foto vi deo avqustun dan ke\\u00e7\\u0259n gec\\u0259 cinemaplus amburan kinoteatr\\u0131nda filmd\\u0259n ibar\\u0259t q\\u0131zmar kino gec\\u0259si ba\\u015f tutub oxu x\\u0259b\\u0259r verir dan s\\u0259h\\u0259r qonaqlar m\\u0259ni atan casus \\u015f\\u0259r cinemazadeh studiyas\\u0131nda pe\\u015f\\u0259kar az\\u0259rbaycan dilin\\u0259 dublyaj olunan da\\u011fl\\u0131 ail\\u0259 filml\\u0259rinin n\\u00fcmayi\\u015fi ke\\u00e7irilib gec\\u0259ni s\\u0259h\\u0259r\\u0259d\\u0259k dj qonaqlar\\u0131 dinamik musiqi \\u0259yl\\u0259ndirib h\\u0259m\\u00e7inin alkoqollu alkoqolsuz i\\u00e7kil\\u0259r olub t\\u0259dbirin ke\\u00e7irilm\\u0259sin\\u0259 cinemazadeh dublyaj studiyas\\u0131 cinema distribution red bull ganja sharab banketnaya araqlar\\u0131 gala \\u015f\\u0259rablar\\u0131 d\\u0259st\\u0259k olub cinemaplus kinoteatrlar \\u015f\\u0259b\\u0259k\\u0259si sizl\\u0259r\\u0259 xo\\u015f s\\u00fcrprizl\\u0259r kino d\\u00fcnyas\\u0131nda son premyeralarla sevindirm\\u0259y\\u0259 haz\\u0131rd\\u0131r cinemaplus q\\u0131zmar kino gec\\u0259si ke\\u00e7irildi foto vi deo www oxu\"\n        ],\n        \"semantic_type\": \"\",\n        \"description\": \"\"\n      }\n    },\n    {\n      \"column\": \"category\",\n      \"properties\": {\n        \"dtype\": \"number\",\n        \"std\": 5,\n        \"min\": 0,\n        \"max\": 15,\n        \"num_unique_values\": 16,\n        \"samples\": [\n          14,\n          10,\n          7\n        ],\n        \"semantic_type\": \"\",\n        \"description\": \"\"\n      }\n    },\n    {\n      \"column\": \"text_length\",\n      \"properties\": {\n        \"dtype\": \"number\",\n        \"std\": 2430,\n        \"min\": 145,\n        \"max\": 46799,\n        \"num_unique_values\": 3934,\n        \"samples\": [\n          596,\n          1381,\n          2032\n        ],\n        \"semantic_type\": \"\",\n        \"description\": \"\"\n      }\n    }\n  ]\n}"
            }
          },
          "metadata": {},
          "execution_count": 92
        }
      ],
      "source": [
        "df_train"
      ]
    },
    {
      "cell_type": "markdown",
      "source": [
        "The data shows an unbalanced distribution in the `category` column. This imbalance may cause the model to learn some classes less."
      ],
      "metadata": {
        "id": "IY-OZzbIU22O"
      }
    },
    {
      "cell_type": "code",
      "execution_count": 19,
      "metadata": {
        "colab": {
          "base_uri": "https://localhost:8080/"
        },
        "id": "R8fMXnVqGIlB",
        "outputId": "19efeed2-e41c-45ff-a106-e91f6ba9b964"
      },
      "outputs": [
        {
          "output_type": "execute_result",
          "data": {
            "text/plain": [
              "['a',\n",
              " 'ad',\n",
              " 'altı',\n",
              " 'altmış',\n",
              " 'amma',\n",
              " 'arasında',\n",
              " 'artıq',\n",
              " 'ay',\n",
              " 'az',\n",
              " 'bax',\n",
              " 'belə',\n",
              " 'bəli',\n",
              " 'bəlkə',\n",
              " 'beş',\n",
              " 'bəy',\n",
              " 'bəzən',\n",
              " 'bəzi',\n",
              " 'bilər',\n",
              " 'bir',\n",
              " 'biraz',\n",
              " 'biri',\n",
              " 'birşey',\n",
              " 'biz',\n",
              " 'bizim',\n",
              " 'bizlər',\n",
              " 'bu',\n",
              " 'buna',\n",
              " 'bundan',\n",
              " 'bunların',\n",
              " 'bunu',\n",
              " 'bunun',\n",
              " 'buradan',\n",
              " 'bütün',\n",
              " 'ci',\n",
              " 'cı',\n",
              " 'çox',\n",
              " 'cu',\n",
              " 'cü',\n",
              " 'çünki',\n",
              " 'da',\n",
              " 'daha',\n",
              " 'də',\n",
              " 'dedi',\n",
              " 'dək',\n",
              " 'dən',\n",
              " 'dəqiqə',\n",
              " 'deyil',\n",
              " 'dir',\n",
              " 'doqquz',\n",
              " 'doqsan',\n",
              " 'dörd',\n",
              " 'düz',\n",
              " 'ə',\n",
              " 'edən',\n",
              " 'edir',\n",
              " 'əgər',\n",
              " 'əlbəttə',\n",
              " 'elə',\n",
              " 'əlli',\n",
              " 'ən',\n",
              " 'əslində',\n",
              " 'et',\n",
              " 'etdi',\n",
              " 'etmə',\n",
              " 'etmək',\n",
              " 'faiz',\n",
              " 'gilə',\n",
              " 'görə',\n",
              " 'ha',\n",
              " 'haqqında',\n",
              " 'harada',\n",
              " 'hə',\n",
              " 'heç',\n",
              " 'həm',\n",
              " 'həmin',\n",
              " 'həmişə',\n",
              " 'hər',\n",
              " 'ı',\n",
              " 'idi',\n",
              " 'iki',\n",
              " 'il',\n",
              " 'ildə',\n",
              " 'ilə',\n",
              " 'ilk',\n",
              " 'in',\n",
              " 'indi',\n",
              " 'isə',\n",
              " 'istifadə',\n",
              " 'iyirmi',\n",
              " 'ki',\n",
              " 'kim',\n",
              " 'kimə',\n",
              " 'kimi',\n",
              " 'lakin',\n",
              " 'lap',\n",
              " 'məhz',\n",
              " 'mən',\n",
              " 'mənə',\n",
              " 'mirşey',\n",
              " 'nə',\n",
              " 'nəhayət',\n",
              " 'niyə',\n",
              " 'o',\n",
              " 'obirisi',\n",
              " 'of',\n",
              " 'olan',\n",
              " 'olar',\n",
              " 'olaraq',\n",
              " 'oldu',\n",
              " 'olduğu',\n",
              " 'olmadı',\n",
              " 'olmaz',\n",
              " 'olmuşdur',\n",
              " 'olsun',\n",
              " 'olur',\n",
              " 'on',\n",
              " 'ona',\n",
              " 'ondan',\n",
              " 'onlar',\n",
              " 'onlardan',\n",
              " 'onların ',\n",
              " 'onsuzda',\n",
              " 'onu',\n",
              " 'onun',\n",
              " 'oradan',\n",
              " 'otuz',\n",
              " 'öz',\n",
              " 'özü',\n",
              " 'qarşı',\n",
              " 'qədər',\n",
              " 'qırx',\n",
              " 'saat',\n",
              " 'sadəcə',\n",
              " 'saniyə',\n",
              " 'səhv',\n",
              " 'səkkiz',\n",
              " 'səksən',\n",
              " 'sən',\n",
              " 'sənə',\n",
              " 'sənin',\n",
              " 'siz',\n",
              " 'sizin',\n",
              " 'sizlər',\n",
              " 'sonra',\n",
              " 'təəssüf',\n",
              " 'ü',\n",
              " 'üç',\n",
              " 'üçün',\n",
              " 'var',\n",
              " 'və',\n",
              " 'xan',\n",
              " 'xanım',\n",
              " 'xeyr',\n",
              " 'ya',\n",
              " 'yalnız',\n",
              " 'yaxşı',\n",
              " 'yeddi',\n",
              " 'yenə',\n",
              " 'yəni',\n",
              " 'yetmiş',\n",
              " 'yox',\n",
              " 'yoxdur',\n",
              " 'yoxsa',\n",
              " 'yüz',\n",
              " 'zaman']"
            ]
          },
          "metadata": {},
          "execution_count": 19
        }
      ],
      "source": [
        "from nltk.corpus import stopwords\n",
        "stopwords.words('azerbaijani')"
      ]
    },
    {
      "cell_type": "code",
      "execution_count": 20,
      "metadata": {
        "id": "OWrjjj-lHUkc"
      },
      "outputs": [],
      "source": [
        "def preprocess(text):\n",
        "  text=str(text).lower().strip()\n",
        "  text=re.sub('<.*?>','',text)\n",
        "  text = re.sub(r'[^\\w\\söğıçşüÖĞİÇŞÜƏə]', ' ', text)\n",
        "  text = re.sub(r'\\d+', '', text)\n",
        "  text = re.sub(r'\\s+', ' ', text).strip()\n",
        "  return text\n",
        "\n",
        "def remove_stopword(string):\n",
        "  str=[word for word in string.split() if word not in stopwords.words('azerbaijani')]\n",
        "  return ' '.join(str)"
      ]
    },
    {
      "cell_type": "code",
      "execution_count": 21,
      "metadata": {
        "id": "ibDLm3W9JVda"
      },
      "outputs": [],
      "source": [
        "df_train['text']=df_train['text'].apply(preprocess)\n",
        "df_train['text']=df_train['text'].apply(remove_stopword)"
      ]
    },
    {
      "cell_type": "code",
      "execution_count": 22,
      "metadata": {
        "colab": {
          "base_uri": "https://localhost:8080/",
          "height": 53
        },
        "id": "Dd6C8RH2Mt54",
        "outputId": "faba85a6-507c-44f1-f3c0-992328fa299f"
      },
      "outputs": [
        {
          "output_type": "execute_result",
          "data": {
            "text/plain": [
              "'hesablama palatası socar gələn milyon manat dividend ödəməli olacaq azərbaycanda dövlət müəssisələrinin dividend ödənişləri üzrə proqnozun artırılmasının səbəbi məlum olub report xəbər verir barədə hesablama palatasının dövlət büdcəsi qanun layihəsinə verdiyi rəydə bildirilir sənədə əsasən artım dövlət neft şirkətinin socar dividend ödənişi üzrə proqnozun milyon manat yaxud artırılaraq milyon manata çatdırılması bağlıdır'"
            ],
            "application/vnd.google.colaboratory.intrinsic+json": {
              "type": "string"
            }
          },
          "metadata": {},
          "execution_count": 22
        }
      ],
      "source": [
        "df_train['text'][5]"
      ]
    },
    {
      "cell_type": "code",
      "execution_count": 23,
      "metadata": {
        "id": "KWdZMvqWNXrK"
      },
      "outputs": [],
      "source": [
        "lemmatizer=WordNetLemmatizer()\n",
        "df_train['text']=df_train['text'].apply(lemmatizer.lemmatize)"
      ]
    },
    {
      "cell_type": "code",
      "execution_count": 24,
      "metadata": {
        "colab": {
          "base_uri": "https://localhost:8080/",
          "height": 53
        },
        "id": "wo9FbitVN42x",
        "outputId": "5fc75f77-c485-4068-fe38-4f3f0ff78eb2"
      },
      "outputs": [
        {
          "output_type": "execute_result",
          "data": {
            "text/plain": [
              "'hesablama palatası socar gələn milyon manat dividend ödəməli olacaq azərbaycanda dövlət müəssisələrinin dividend ödənişləri üzrə proqnozun artırılmasının səbəbi məlum olub report xəbər verir barədə hesablama palatasının dövlət büdcəsi qanun layihəsinə verdiyi rəydə bildirilir sənədə əsasən artım dövlət neft şirkətinin socar dividend ödənişi üzrə proqnozun milyon manat yaxud artırılaraq milyon manata çatdırılması bağlıdır'"
            ],
            "application/vnd.google.colaboratory.intrinsic+json": {
              "type": "string"
            }
          },
          "metadata": {},
          "execution_count": 24
        }
      ],
      "source": [
        "df_train['text'][5]"
      ]
    },
    {
      "cell_type": "code",
      "execution_count": 25,
      "metadata": {
        "id": "35UAy4lWPHk9"
      },
      "outputs": [],
      "source": [
        "le=LabelEncoder()\n",
        "le.fit(df_train['category'])\n",
        "df_train['category']=le.transform(df_train['category'])"
      ]
    },
    {
      "cell_type": "code",
      "execution_count": 26,
      "metadata": {
        "colab": {
          "base_uri": "https://localhost:8080/"
        },
        "id": "n0isxB5-PVVz",
        "outputId": "cacc11b5-bdab-446f-84d7-25d9bbaee674"
      },
      "outputs": [
        {
          "output_type": "execute_result",
          "data": {
            "text/plain": [
              "array([14, 10, 15,  0,  3,  7,  5, 12, 11,  4,  8,  2,  1,  6,  9, 13])"
            ]
          },
          "metadata": {},
          "execution_count": 26
        }
      ],
      "source": [
        "df_train.category.unique()"
      ]
    },
    {
      "cell_type": "markdown",
      "metadata": {
        "id": "K3AT3XaH5fsx"
      },
      "source": [
        "**Encoding (TF-IDF (Term Frequency-Inverse Document Frequency))**"
      ]
    },
    {
      "cell_type": "markdown",
      "source": [
        "\n",
        "The text data was first converted into a numerical form so that it could be processed by the model. For this, `TF-IDF (Term Frequency-Inverse Document Frequency)` vectorization was used. This method calculates the importance of each word based on its frequency within the document and in the overall corpus.\n",
        "\n",
        "This encoding method led to more stable and balanced results, especially in SVM and Logistic Regression models."
      ],
      "metadata": {
        "id": "2lqC-2kMWL7d"
      }
    },
    {
      "cell_type": "code",
      "execution_count": 27,
      "metadata": {
        "id": "uqJ0qHcBPes0"
      },
      "outputs": [],
      "source": [
        "tfidf=TfidfVectorizer(min_df=3,\n",
        "                      max_df=0.8,\n",
        "                      max_features=10000,\n",
        "                      token_pattern=r'\\b[a-zöğıçşüəÖĞİÇŞÜƏ]{4,15}\\b',\n",
        "                      )\n",
        "tfidf_matrix = tfidf.fit_transform(df_train['text'])"
      ]
    },
    {
      "cell_type": "code",
      "execution_count": 28,
      "metadata": {
        "colab": {
          "base_uri": "https://localhost:8080/"
        },
        "id": "Axq9gjqmT2_c",
        "outputId": "d9607300-de52-443b-d3e7-d20cd9a2dc33"
      },
      "outputs": [
        {
          "output_type": "stream",
          "name": "stdout",
          "text": [
            "['abadlıq' 'abbas' 'abbasov' 'abbasovun' 'abdulla' 'abdullah' 'abdullayev'\n",
            " 'abdullayeva' 'abdullayevin' 'abidə' 'abidələr' 'abidələri' 'abidələrin'\n",
            " 'abidənin' 'abidəsi' 'abunəçiləri' 'abunəçiyə' 'abşeron' 'abşeronda'\n",
            " 'academy']\n"
          ]
        }
      ],
      "source": [
        "feature_names = tfidf.get_feature_names_out()\n",
        "print(feature_names[:20])\n"
      ]
    },
    {
      "cell_type": "code",
      "execution_count": 29,
      "metadata": {
        "id": "XWSH1GhORVtv"
      },
      "outputs": [],
      "source": [
        "X_train,X_test,y_train,y_test=train_test_split(tfidf_matrix,\n",
        "                                               df_train['category'],\n",
        "                                               test_size=0.2,\n",
        "                                               shuffle=True,\n",
        "                                               stratify=df_train['category'],\n",
        "                                               random_state=42)"
      ]
    },
    {
      "cell_type": "markdown",
      "source": [
        "Some categories in our dataset have more examples than others. This can cause the model to prefer learning those classes with more examples.\n",
        "\n",
        "SMOTE (Synthetic Minority Over-sampling Technique) helps balance the dataset by augmenting classes with fewer examples with artificial examples. This technique is applied to the training data and ensures that the model learns in a more objective and balanced way.\n",
        "\n",
        "In this project, `SMOTE` was used to balance `X_train` and `y_train`, and then models were trained with this data."
      ],
      "metadata": {
        "id": "i13FfqhJqZ9z"
      }
    },
    {
      "cell_type": "code",
      "source": [
        "smote = SMOTE(random_state=42)\n",
        "X_train_resampled, y_train_resampled = smote.fit_resample(X_train, y_train)"
      ],
      "metadata": {
        "id": "RMnlT9lSpmUs"
      },
      "execution_count": 30,
      "outputs": []
    },
    {
      "cell_type": "code",
      "source": [],
      "metadata": {
        "id": "et6Uk7-3qZCm"
      },
      "execution_count": 30,
      "outputs": []
    },
    {
      "cell_type": "markdown",
      "source": [
        "In this step, we split the data into two parts for training and testing the model: 80% for training; 20% for testing\n",
        "\n",
        "This allows us to test how the model applies what it has learned to data it has not seen before.\n",
        "\n",
        "**`shuffle=True `**shuffles the data randomly so that the order does not affect the result.\n",
        "\n",
        "**`random_state=42`** provides a constant seed to get the same result when running it again."
      ],
      "metadata": {
        "id": "vCEfsCHGXRIu"
      }
    },
    {
      "cell_type": "code",
      "execution_count": 31,
      "metadata": {
        "colab": {
          "base_uri": "https://localhost:8080/"
        },
        "id": "NTMrmpppXHk9",
        "outputId": "8d4b194a-b35d-4ac0-d2f0-a2c802a25b0e"
      },
      "outputs": [
        {
          "output_type": "execute_result",
          "data": {
            "text/plain": [
              "(9535, 10000)"
            ]
          },
          "metadata": {},
          "execution_count": 31
        }
      ],
      "source": [
        "X_train.shape"
      ]
    },
    {
      "cell_type": "code",
      "execution_count": 32,
      "metadata": {
        "colab": {
          "base_uri": "https://localhost:8080/"
        },
        "id": "gesY8cBSXJhl",
        "outputId": "3ed8a32e-bf3b-4089-e1ef-679dabec5aea"
      },
      "outputs": [
        {
          "output_type": "execute_result",
          "data": {
            "text/plain": [
              "(2384, 10000)"
            ]
          },
          "metadata": {},
          "execution_count": 32
        }
      ],
      "source": [
        "X_test.shape"
      ]
    },
    {
      "cell_type": "markdown",
      "source": [
        "# Testing Different Models"
      ],
      "metadata": {
        "id": "zaXRlB2U6iet"
      }
    },
    {
      "cell_type": "markdown",
      "source": [
        "# K Nearest Neighbors (KNN) model\n",
        "At this stage, the K Nearest Neighbors (KNN) model was applied with the One-vs-Rest strategy. This strategy separates each class from the other classes, transforming the multi-class problem into a series of two-class models.\n",
        "\n"
      ],
      "metadata": {
        "id": "yCdEpZgkp2kb"
      }
    },
    {
      "cell_type": "code",
      "execution_count": 82,
      "metadata": {
        "colab": {
          "base_uri": "https://localhost:8080/"
        },
        "id": "faMr8KAnXMrr",
        "outputId": "2db03c2c-a289-4f28-d259-6b902e2ef030"
      },
      "outputs": [
        {
          "output_type": "stream",
          "name": "stdout",
          "text": [
            "KNN Model Accuracy: 0.6552013422818792\n",
            "F1-score: 0.6442435094724237\n"
          ]
        }
      ],
      "source": [
        "knn_model=OneVsRestClassifier(KNeighborsClassifier())\n",
        "knn_model.fit(X_train,y_train)\n",
        "knn_predictions=knn_model.predict(X_test)\n",
        "f1_score_knn=f1_score(y_test, knn_predictions, average='weighted')\n",
        "accuracy_knn=accuracy_score(y_test,knn_predictions)\n",
        "print(\"KNN Model Accuracy:\",accuracy_knn)\n",
        "print(\"F1-score:\",f1_score_knn )"
      ]
    },
    {
      "cell_type": "markdown",
      "source": [
        "The accuracy of the model on the test data was: ~66%. This result is somewhat satisfactory, but should be compared with other models."
      ],
      "metadata": {
        "id": "67JY9G0SqH48"
      }
    },
    {
      "cell_type": "code",
      "source": [
        "cm = confusion_matrix(y_test, knn_predictions, labels=knn_model.classes_)\n",
        "\n",
        "plt.figure(figsize=(10, 8))\n",
        "sns.heatmap(cm,\n",
        "            annot=True,\n",
        "            fmt='d',\n",
        "            xticklabels=knn_model.classes_,\n",
        "            yticklabels=knn_model.classes_,\n",
        "            cmap='Purples')\n",
        "plt.xlabel('Predicted')\n",
        "plt.ylabel('True')\n",
        "plt.title('Confusion Matrix For KNN')\n",
        "plt.show()\n"
      ],
      "metadata": {
        "colab": {
          "base_uri": "https://localhost:8080/",
          "height": 575
        },
        "id": "jbXAjbP2vivk",
        "outputId": "d7eed472-bdb5-4f18-c68a-59c3c465accc"
      },
      "execution_count": 37,
      "outputs": [
        {
          "output_type": "display_data",
          "data": {
            "text/plain": [
              "<Figure size 1000x800 with 2 Axes>"
            ],
            "image/png": "[encoded data removed]"
          },
          "metadata": {}
        }
      ]
    },
    {
      "cell_type": "markdown",
      "source": [
        "The resulting confusion matrix is ​​displayed visually and analyzed to determine which classes the model performs best.\n",
        "\n",
        "These results allow for in-depth analysis of the model's overall performance and errors."
      ],
      "metadata": {
        "id": "3z1wyUWSrFLM"
      }
    },
    {
      "cell_type": "markdown",
      "source": [
        "# The Logistic Regression model\n",
        "Logistic Regression model is one of the most widely used models in text-based multiclass classification problems. In this model, the convergence of the model was ensured by setting `max_iter=1000`.\n",
        "\n",
        "After the model was trained on the training data, it was tested on the test data and the `accuracy` value was obtained. The performance of the model was evaluated for each class using the confusion matrix.\n",
        "\n",
        "Logistic Regression performs particularly well on **TF-IDF represented text data** and is a balanced choice in many cases in terms of simplicity and performance."
      ],
      "metadata": {
        "id": "Qt4ZH48Prb_c"
      }
    },
    {
      "cell_type": "code",
      "execution_count": 83,
      "metadata": {
        "colab": {
          "base_uri": "https://localhost:8080/"
        },
        "id": "sx0qBH3AZhVs",
        "outputId": "4761b32c-4e5c-4049-c46f-c9362291e61b"
      },
      "outputs": [
        {
          "output_type": "stream",
          "name": "stdout",
          "text": [
            "Logistic Regression Accuracy: 0.7143456375838926\n",
            "F1-score: 0.7183625487137629\n"
          ]
        }
      ],
      "source": [
        "lr_model = LogisticRegression(max_iter=1000,class_weight='balanced',penalty='l2')\n",
        "lr_model.fit(X_train, y_train)\n",
        "lr_predictions = lr_model.predict(X_test)\n",
        "accuracy_lr = accuracy_score(y_test, lr_predictions)\n",
        "f1_score_lr=f1_score(y_test, lr_predictions, average='weighted')\n",
        "print(\"Logistic Regression Accuracy:\", accuracy_lr)\n",
        "print(\"F1-score:\",f1_score_lr)"
      ]
    },
    {
      "cell_type": "code",
      "source": [
        "# Confusion matrix\n",
        "cm = confusion_matrix(y_test, lr_predictions, labels=lr_model.classes_)\n",
        "plt.figure(figsize=(10, 8))\n",
        "sns.heatmap(cm,\n",
        "            annot=True,\n",
        "            fmt='d',\n",
        "            xticklabels=lr_model.classes_,\n",
        "            yticklabels=lr_model.classes_,\n",
        "            cmap='Blues')\n",
        "plt.xlabel('Predicted')\n",
        "plt.ylabel('True')\n",
        "plt.title('Confusion Matrix for Logistic Regression')\n",
        "plt.show()\n"
      ],
      "metadata": {
        "colab": {
          "base_uri": "https://localhost:8080/",
          "height": 575
        },
        "id": "CtiLo1ZWtrtM",
        "outputId": "7a8e3705-e22b-40ee-ff7c-c908f2646e61"
      },
      "execution_count": 40,
      "outputs": [
        {
          "output_type": "display_data",
          "data": {
            "text/plain": [
              "<Figure size 1000x800 with 2 Axes>"
            ],
            "image/png": "[encoded data removed]"
          },
          "metadata": {}
        }
      ]
    },
    {
      "cell_type": "markdown",
      "source": [
        "# Multinomial Naive Bayes\n",
        "At this stage, the Multinomial Naive Bayes model was used. This model is one of the models that is particularly suitable for text classification and can provide efficient results when combined with TfidfVectorizer."
      ],
      "metadata": {
        "id": "wtZKAiFqtptO"
      }
    },
    {
      "cell_type": "code",
      "source": [
        "model=MultinomialNB()\n",
        "model.fit(X_train,y_train)\n",
        "labels=model.predict(X_test)\n",
        "f1_score_nv=f1_score(y_test, labels, average='weighted')\n",
        "accuracy_nv=accuracy_score(y_test,labels)\n",
        "print(\"Multinomial Naive Bayes Accuracy:\", accuracy_nv)\n",
        "print(\"F1-score:\",f1_score_nv)"
      ],
      "metadata": {
        "colab": {
          "base_uri": "https://localhost:8080/"
        },
        "id": "cAs-XPMfteFj",
        "outputId": "5db6cfd7-8ab8-4c0a-b3fb-f3d75cb66886"
      },
      "execution_count": 84,
      "outputs": [
        {
          "output_type": "stream",
          "name": "stdout",
          "text": [
            "Multinomial Naive Bayes Accuracy: 0.6984060402684564\n",
            "F1-score: 0.6630718417209249\n"
          ]
        }
      ]
    },
    {
      "cell_type": "code",
      "source": [
        "# Confusion matrix\n",
        "cm = confusion_matrix(y_test, labels, labels=model.classes_)\n",
        "plt.figure(figsize=(10, 8))\n",
        "sns.heatmap(cm,\n",
        "            annot=True,\n",
        "            fmt='d',\n",
        "            xticklabels=model.classes_,\n",
        "            yticklabels=model.classes_,\n",
        "            cmap='Reds')\n",
        "plt.xlabel('Predicted')\n",
        "plt.ylabel('True')\n",
        "plt.title('Confusion Matrix for Naive Bayes')\n",
        "plt.show()"
      ],
      "metadata": {
        "colab": {
          "base_uri": "https://localhost:8080/",
          "height": 575
        },
        "id": "7mHiQMxPu9FM",
        "outputId": "64615423-1a8c-4c56-f0d0-0c6dbffb2041"
      },
      "execution_count": 59,
      "outputs": [
        {
          "output_type": "display_data",
          "data": {
            "text/plain": [
              "<Figure size 1000x800 with 2 Axes>"
            ],
            "image/png": "[encoded data removed]"
          },
          "metadata": {}
        }
      ]
    },
    {
      "cell_type": "code",
      "source": [
        "kappa = cohen_kappa_score(y_test, labels)\n",
        "print(f\"Cohen's Kappa: {kappa}\")\n"
      ],
      "metadata": {
        "colab": {
          "base_uri": "https://localhost:8080/"
        },
        "id": "n5LRNLegxwgl",
        "outputId": "e1443a02-ed38-450f-8097-d58523bee67c"
      },
      "execution_count": 60,
      "outputs": [
        {
          "output_type": "stream",
          "name": "stdout",
          "text": [
            "Cohen's Kappa: 0.6596046193474743\n"
          ]
        }
      ]
    },
    {
      "cell_type": "markdown",
      "source": [
        "# LinearSVC (Support Vector Classifier)\n",
        "LinearSVC (Support Vector Classifier) ​​is a linear variant of the Support Vector Machine (SVM) method. The goal is to find the best line that separates different classes in the data. The LinearSVC model works with linear decision boundaries, especially on the training data, and therefore can achieve faster results on large data sets."
      ],
      "metadata": {
        "id": "fUdj2Mj4wt9U"
      }
    },
    {
      "cell_type": "code",
      "source": [
        "svc_model=LinearSVC()\n",
        "svc_model.fit(X_train,y_train)\n",
        "svc_predictions=svc_model.predict(X_test)\n",
        "f1_score_svc=f1_score(y_test, svc_predictions, average='weighted')\n",
        "accuracy_svc=accuracy_score(y_test,svc_predictions)\n",
        "print(\"SVC Accuracy:\",accuracy_svc )\n",
        "print(\"F1-score:\",f1_score_svc)"
      ],
      "metadata": {
        "colab": {
          "base_uri": "https://localhost:8080/"
        },
        "id": "ucqpl4-VwvYj",
        "outputId": "fd5831e9-b13d-4816-9bc6-61181ea04040"
      },
      "execution_count": 85,
      "outputs": [
        {
          "output_type": "stream",
          "name": "stdout",
          "text": [
            "SVC Accuracy: 0.7495805369127517\n",
            "F1-score: 0.7400248090991387\n"
          ]
        }
      ]
    },
    {
      "cell_type": "code",
      "source": [
        "from sklearn.metrics import classification_report\n",
        "print(classification_report(y_test, svc_predictions))\n"
      ],
      "metadata": {
        "colab": {
          "base_uri": "https://localhost:8080/"
        },
        "id": "dRS55MKkxl-s",
        "outputId": "3bdafc22-ef11-4e2d-b3d2-49a8fae2a92a"
      },
      "execution_count": 86,
      "outputs": [
        {
          "output_type": "stream",
          "name": "stdout",
          "text": [
            "              precision    recall  f1-score   support\n",
            "\n",
            "           0       0.63      0.67      0.65       313\n",
            "           1       0.81      0.76      0.79        17\n",
            "           2       0.92      0.89      0.90       263\n",
            "           3       0.68      0.81      0.74       367\n",
            "           4       0.50      0.17      0.25        41\n",
            "           5       0.86      0.90      0.88       102\n",
            "           6       0.44      0.27      0.33        41\n",
            "           7       0.78      0.77      0.77       136\n",
            "           8       0.85      0.96      0.90       225\n",
            "           9       0.50      0.19      0.28        36\n",
            "          10       0.65      0.64      0.65       104\n",
            "          11       0.45      0.14      0.21        36\n",
            "          12       0.80      0.72      0.76       122\n",
            "          13       0.73      0.61      0.67        67\n",
            "          14       0.76      0.76      0.76       328\n",
            "          15       0.78      0.77      0.78       186\n",
            "\n",
            "    accuracy                           0.75      2384\n",
            "   macro avg       0.70      0.63      0.65      2384\n",
            "weighted avg       0.74      0.75      0.74      2384\n",
            "\n"
          ]
        }
      ]
    },
    {
      "cell_type": "markdown",
      "source": [
        "# Presentation of Results\n",
        "\n",
        "The model results were evaluated with a confusion matrix, classification report, and individual test cases.\n",
        "\n",
        "In addition, a comparison between the models was shown with a pandas table and a submission.csv was created based on the prediction of the model that gave the highest result.\n",
        "\n",
        "The file was prepared according to the competition format (id, category) and made ready for submission."
      ],
      "metadata": {
        "id": "wcPHfdyn0hOp"
      }
    },
    {
      "cell_type": "code",
      "source": [
        "import pandas as pd\n",
        "\n",
        "models = [\"KNN\", \"Logistic Regression\",'Naive Bayes', \"SVC\"]\n",
        "f1_scores = [f1_score_knn, f1_score_lr, f1_score_nv, f1_score_svc]\n",
        "accuracy = [accuracy_knn, accuracy_lr, accuracy_nv, accuracy_svc]\n",
        "\n",
        "comparison_df = pd.DataFrame({\n",
        "    'Model': models,\n",
        "    'F1_Score': f1_scores,\n",
        "    'Accuracy': accuracy\n",
        "})\n",
        "\n",
        "comparison_df = comparison_df.sort_values(by='F1_Score', ascending=False)\n",
        "\n",
        "print(tabulate(comparison_df, headers='keys', tablefmt='pipe', showindex=False))\n"
      ],
      "metadata": {
        "colab": {
          "base_uri": "https://localhost:8080/"
        },
        "id": "KYNBX3QG17Ei",
        "outputId": "1d9b3002-507e-46e6-9af7-4cd5800edcd9"
      },
      "execution_count": 88,
      "outputs": [
        {
          "output_type": "stream",
          "name": "stdout",
          "text": [
            "| Model               |   F1_Score |   Accuracy |\n",
            "|:--------------------|-----------:|-----------:|\n",
            "| SVC                 |   0.740025 |   0.749581 |\n",
            "| Logistic Regression |   0.718363 |   0.714346 |\n",
            "| Naive Bayes         |   0.663072 |   0.698406 |\n",
            "| KNN                 |   0.644244 |   0.655201 |\n"
          ]
        }
      ]
    },
    {
      "cell_type": "markdown",
      "source": [
        "I chose the SVC model because it gave the highest result – I got an F1-score of 0.74. This shows that the model has a good ability to classify the data and gives correct results. SVC works well for linearly separable data and defines the boundaries between different classes well."
      ],
      "metadata": {
        "id": "W72bWECC1ckj"
      }
    },
    {
      "cell_type": "code",
      "source": [
        "X_test_tfidf = tfidf.transform(df_test['text'])\n",
        "preds = svc_model.predict(X_test_tfidf)\n",
        "pred_labels = le.inverse_transform(preds)\n",
        "submission_df = pd.DataFrame({\n",
        "    'id': df_test['id'],\n",
        "    'category': pred_labels\n",
        "})\n",
        "submission_df.to_csv(\"submission.csv\", index=False)"
      ],
      "metadata": {
        "id": "PaZ-Q7tb1jp7"
      },
      "execution_count": 91,
      "outputs": []
    }
  ],
  "metadata": {
    "colab": {
      "provenance": [],
      "collapsed_sections": [
        "yCdEpZgkp2kb",
        "Qt4ZH48Prb_c",
        "wtZKAiFqtptO",
        "fUdj2Mj4wt9U"
      ],
      "authorship_tag": "ABX9TyOrr85QKuyaeRS/FnkWTYzg",
      "include_colab_link": true
    },
    "kernelspec": {
      "display_name": "Python 3",
      "name": "python3"
    },
    "language_info": {
      "name": "python"
    }
  },
  "nbformat": 4,
  "nbformat_minor": 0
}